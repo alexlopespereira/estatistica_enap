{
 "cells": [
  {
   "cell_type": "code",
   "execution_count": 1,
   "metadata": {},
   "outputs": [
    {
     "name": "stderr",
     "output_type": "stream",
     "text": [
      "\n",
      "Attaching package: ‘dplyr’\n",
      "\n",
      "The following objects are masked from ‘package:stats’:\n",
      "\n",
      "    filter, lag\n",
      "\n",
      "The following objects are masked from ‘package:base’:\n",
      "\n",
      "    intersect, setdiff, setequal, union\n",
      "\n"
     ]
    },
    {
     "name": "stdout",
     "output_type": "stream",
     "text": [
      "'data.frame':\t126 obs. of  31 variables:\n",
      " $ Data               : Factor w/ 126 levels \"2008/Abr\",\"2008/Ago\",..: 5 4 9 1 8 7 6 2 12 11 ...\n",
      " $ Ano                : int  2008 2008 2008 2008 2008 2008 2008 2008 2008 2008 ...\n",
      " $ Mes                : Factor w/ 12 levels \"Abr\",\"Ago\",\"Dez\",..: 5 4 9 1 8 7 6 2 12 11 ...\n",
      " $ Rondônia           : int  75 71 63 75 95 73 87 111 100 73 ...\n",
      " $ Acre               : int  26 61 127 53 77 145 100 114 88 119 ...\n",
      " $ Amazonas           : int  138 418 461 459 353 464 550 649 554 599 ...\n",
      " $ Roraima            : int  88 NA 156 79 75 97 107 70 26 137 ...\n",
      " $ Pará               : int  600 791 769 756 698 739 794 766 735 769 ...\n",
      " $ Amapá              : int  205 141 181 34 16 264 177 130 183 205 ...\n",
      " $ Tocantins          : int  138 190 179 141 138 152 151 174 189 185 ...\n",
      " $ Maranhão           : int  434 593 584 660 571 551 581 552 498 608 ...\n",
      " $ Piauí              : int  209 361 290 296 281 582 445 430 456 421 ...\n",
      " $ Ceará              : int  731 915 1041 944 880 952 1011 1061 1002 944 ...\n",
      " $ Rio.Grande.do.Norte: int  169 198 183 177 209 220 188 231 208 226 ...\n",
      " $ Paraíba            : int  343 399 400 360 334 342 344 459 419 420 ...\n",
      " $ Pernambuco         : int  489 904 796 1142 903 877 886 1003 1008 880 ...\n",
      " $ Alagoas            : int  280 346 301 345 293 280 337 302 303 468 ...\n",
      " $ Sergipe            : int  272 353 322 304 295 364 284 375 485 380 ...\n",
      " $ Bahia              : int  1156 1640 1560 1722 1530 2089 1831 2267 2403 2329 ...\n",
      " $ Minas.Gerais       : int  1193 1499 1601 1398 1534 1787 1639 1730 1751 1894 ...\n",
      " $ Espírito.Santo     : int  193 293 230 200 233 281 254 296 306 335 ...\n",
      " $ Rio.de.Janeiro     : int  679 816 1134 1072 1254 1243 1326 1475 1270 1439 ...\n",
      " $ São.Paulo          : int  2153 2800 2892 3000 3201 3008 3412 3395 3623 3655 ...\n",
      " $ Paraná             : int  599 660 608 565 607 645 633 707 671 682 ...\n",
      " $ Santa.Catarina     : int  416 582 525 396 491 477 456 503 502 533 ...\n",
      " $ Rio.Grande.do.Sul  : int  349 800 808 681 549 539 799 798 723 742 ...\n",
      " $ Mato.Grosso.do.Sul : int  222 220 205 132 215 224 212 233 233 279 ...\n",
      " $ Mato.Grosso        : int  179 247 252 191 185 224 223 244 237 222 ...\n",
      " $ Goiás              : int  237 406 415 334 319 282 318 362 423 364 ...\n",
      " $ Distrito.Federal   : int  116 326 372 321 496 358 397 334 345 440 ...\n",
      " $ Total              : int  11689 16030 16455 15837 15832 17259 17542 18771 18741 19348 ...\n"
     ]
    },
    {
     "data": {
      "text/html": [
       "<table>\n",
       "<thead><tr><th scope=col>Data</th><th scope=col>Ano</th><th scope=col>Mes</th><th scope=col>Rondônia</th><th scope=col>Acre</th><th scope=col>Amazonas</th><th scope=col>Roraima</th><th scope=col>Pará</th><th scope=col>Amapá</th><th scope=col>Tocantins</th><th scope=col>⋯</th><th scope=col>Rio.de.Janeiro</th><th scope=col>São.Paulo</th><th scope=col>Paraná</th><th scope=col>Santa.Catarina</th><th scope=col>Rio.Grande.do.Sul</th><th scope=col>Mato.Grosso.do.Sul</th><th scope=col>Mato.Grosso</th><th scope=col>Goiás</th><th scope=col>Distrito.Federal</th><th scope=col>Total</th></tr></thead>\n",
       "<tbody>\n",
       "\t<tr><td>2008/Jan</td><td>2008    </td><td>Jan     </td><td>75      </td><td> 26     </td><td>138     </td><td> 88     </td><td>600     </td><td>205     </td><td>138     </td><td>⋯       </td><td> 679    </td><td>2153    </td><td>599     </td><td>416     </td><td>349     </td><td>222     </td><td>179     </td><td>237     </td><td>116     </td><td>11689   </td></tr>\n",
       "\t<tr><td>2008/Fev</td><td>2008    </td><td>Fev     </td><td>71      </td><td> 61     </td><td>418     </td><td> NA     </td><td>791     </td><td>141     </td><td>190     </td><td>⋯       </td><td> 816    </td><td>2800    </td><td>660     </td><td>582     </td><td>800     </td><td>220     </td><td>247     </td><td>406     </td><td>326     </td><td>16030   </td></tr>\n",
       "\t<tr><td>2008/Mar</td><td>2008    </td><td>Mar     </td><td>63      </td><td>127     </td><td>461     </td><td>156     </td><td>769     </td><td>181     </td><td>179     </td><td>⋯       </td><td>1134    </td><td>2892    </td><td>608     </td><td>525     </td><td>808     </td><td>205     </td><td>252     </td><td>415     </td><td>372     </td><td>16455   </td></tr>\n",
       "\t<tr><td>2008/Abr</td><td>2008    </td><td>Abr     </td><td>75      </td><td> 53     </td><td>459     </td><td> 79     </td><td>756     </td><td> 34     </td><td>141     </td><td>⋯       </td><td>1072    </td><td>3000    </td><td>565     </td><td>396     </td><td>681     </td><td>132     </td><td>191     </td><td>334     </td><td>321     </td><td>15837   </td></tr>\n",
       "\t<tr><td>2008/Mai</td><td>2008    </td><td>Mai     </td><td>95      </td><td> 77     </td><td>353     </td><td> 75     </td><td>698     </td><td> 16     </td><td>138     </td><td>⋯       </td><td>1254    </td><td>3201    </td><td>607     </td><td>491     </td><td>549     </td><td>215     </td><td>185     </td><td>319     </td><td>496     </td><td>15832   </td></tr>\n",
       "\t<tr><td>2008/Jun</td><td>2008    </td><td>Jun     </td><td>73      </td><td>145     </td><td>464     </td><td> 97     </td><td>739     </td><td>264     </td><td>152     </td><td>⋯       </td><td>1243    </td><td>3008    </td><td>645     </td><td>477     </td><td>539     </td><td>224     </td><td>224     </td><td>282     </td><td>358     </td><td>17259   </td></tr>\n",
       "</tbody>\n",
       "</table>\n"
      ],
      "text/latex": [
       "\\begin{tabular}{r|lllllllllllllllllllllllllllllll}\n",
       " Data & Ano & Mes & Rondônia & Acre & Amazonas & Roraima & Pará & Amapá & Tocantins & ⋯ & Rio.de.Janeiro & São.Paulo & Paraná & Santa.Catarina & Rio.Grande.do.Sul & Mato.Grosso.do.Sul & Mato.Grosso & Goiás & Distrito.Federal & Total\\\\\n",
       "\\hline\n",
       "\t 2008/Jan & 2008     & Jan      & 75       &  26      & 138      &  88      & 600      & 205      & 138      & ⋯        &  679     & 2153     & 599      & 416      & 349      & 222      & 179      & 237      & 116      & 11689   \\\\\n",
       "\t 2008/Fev & 2008     & Fev      & 71       &  61      & 418      &  NA      & 791      & 141      & 190      & ⋯        &  816     & 2800     & 660      & 582      & 800      & 220      & 247      & 406      & 326      & 16030   \\\\\n",
       "\t 2008/Mar & 2008     & Mar      & 63       & 127      & 461      & 156      & 769      & 181      & 179      & ⋯        & 1134     & 2892     & 608      & 525      & 808      & 205      & 252      & 415      & 372      & 16455   \\\\\n",
       "\t 2008/Abr & 2008     & Abr      & 75       &  53      & 459      &  79      & 756      &  34      & 141      & ⋯        & 1072     & 3000     & 565      & 396      & 681      & 132      & 191      & 334      & 321      & 15837   \\\\\n",
       "\t 2008/Mai & 2008     & Mai      & 95       &  77      & 353      &  75      & 698      &  16      & 138      & ⋯        & 1254     & 3201     & 607      & 491      & 549      & 215      & 185      & 319      & 496      & 15832   \\\\\n",
       "\t 2008/Jun & 2008     & Jun      & 73       & 145      & 464      &  97      & 739      & 264      & 152      & ⋯        & 1243     & 3008     & 645      & 477      & 539      & 224      & 224      & 282      & 358      & 17259   \\\\\n",
       "\\end{tabular}\n"
      ],
      "text/markdown": [
       "\n",
       "Data | Ano | Mes | Rondônia | Acre | Amazonas | Roraima | Pará | Amapá | Tocantins | ⋯ | Rio.de.Janeiro | São.Paulo | Paraná | Santa.Catarina | Rio.Grande.do.Sul | Mato.Grosso.do.Sul | Mato.Grosso | Goiás | Distrito.Federal | Total | \n",
       "|---|---|---|---|---|---|\n",
       "| 2008/Jan | 2008     | Jan      | 75       |  26      | 138      |  88      | 600      | 205      | 138      | ⋯        |  679     | 2153     | 599      | 416      | 349      | 222      | 179      | 237      | 116      | 11689    | \n",
       "| 2008/Fev | 2008     | Fev      | 71       |  61      | 418      |  NA      | 791      | 141      | 190      | ⋯        |  816     | 2800     | 660      | 582      | 800      | 220      | 247      | 406      | 326      | 16030    | \n",
       "| 2008/Mar | 2008     | Mar      | 63       | 127      | 461      | 156      | 769      | 181      | 179      | ⋯        | 1134     | 2892     | 608      | 525      | 808      | 205      | 252      | 415      | 372      | 16455    | \n",
       "| 2008/Abr | 2008     | Abr      | 75       |  53      | 459      |  79      | 756      |  34      | 141      | ⋯        | 1072     | 3000     | 565      | 396      | 681      | 132      | 191      | 334      | 321      | 15837    | \n",
       "| 2008/Mai | 2008     | Mai      | 95       |  77      | 353      |  75      | 698      |  16      | 138      | ⋯        | 1254     | 3201     | 607      | 491      | 549      | 215      | 185      | 319      | 496      | 15832    | \n",
       "| 2008/Jun | 2008     | Jun      | 73       | 145      | 464      |  97      | 739      | 264      | 152      | ⋯        | 1243     | 3008     | 645      | 477      | 539      | 224      | 224      | 282      | 358      | 17259    | \n",
       "\n",
       "\n"
      ],
      "text/plain": [
       "  Data     Ano  Mes Rondônia Acre Amazonas Roraima Pará Amapá Tocantins ⋯\n",
       "1 2008/Jan 2008 Jan 75        26  138       88     600  205   138       ⋯\n",
       "2 2008/Fev 2008 Fev 71        61  418       NA     791  141   190       ⋯\n",
       "3 2008/Mar 2008 Mar 63       127  461      156     769  181   179       ⋯\n",
       "4 2008/Abr 2008 Abr 75        53  459       79     756   34   141       ⋯\n",
       "5 2008/Mai 2008 Mai 95        77  353       75     698   16   138       ⋯\n",
       "6 2008/Jun 2008 Jun 73       145  464       97     739  264   152       ⋯\n",
       "  Rio.de.Janeiro São.Paulo Paraná Santa.Catarina Rio.Grande.do.Sul\n",
       "1  679           2153      599    416            349              \n",
       "2  816           2800      660    582            800              \n",
       "3 1134           2892      608    525            808              \n",
       "4 1072           3000      565    396            681              \n",
       "5 1254           3201      607    491            549              \n",
       "6 1243           3008      645    477            539              \n",
       "  Mato.Grosso.do.Sul Mato.Grosso Goiás Distrito.Federal Total\n",
       "1 222                179         237   116              11689\n",
       "2 220                247         406   326              16030\n",
       "3 205                252         415   372              16455\n",
       "4 132                191         334   321              15837\n",
       "5 215                185         319   496              15832\n",
       "6 224                224         282   358              17259"
      ]
     },
     "metadata": {},
     "output_type": "display_data"
    }
   ],
   "source": [
    "library(dplyr)\n",
    "setwd(\"~/curso\")\n",
    "curetagem <- read.csv(file=\"./dados/curetagem/curetagem.csv\", header=TRUE, sep=\",\")\n",
    "str(curetagem)\n",
    "head(curetagem)\n",
    "\n"
   ]
  },
  {
   "cell_type": "code",
   "execution_count": 5,
   "metadata": {},
   "outputs": [
    {
     "data": {
      "text/html": [
       "<ol class=list-inline>\n",
       "\t<li>-698.230158730159</li>\n",
       "\t<li>-51.2301587301586</li>\n",
       "\t<li>40.7698412698414</li>\n",
       "\t<li>148.769841269841</li>\n",
       "\t<li>349.769841269841</li>\n",
       "\t<li>156.769841269841</li>\n",
       "</ol>\n"
      ],
      "text/latex": [
       "\\begin{enumerate*}\n",
       "\\item -698.230158730159\n",
       "\\item -51.2301587301586\n",
       "\\item 40.7698412698414\n",
       "\\item 148.769841269841\n",
       "\\item 349.769841269841\n",
       "\\item 156.769841269841\n",
       "\\end{enumerate*}\n"
      ],
      "text/markdown": [
       "1. -698.230158730159\n",
       "2. -51.2301587301586\n",
       "3. 40.7698412698414\n",
       "4. 148.769841269841\n",
       "5. 349.769841269841\n",
       "6. 156.769841269841\n",
       "\n",
       "\n"
      ],
      "text/plain": [
       "[1] -698.23016  -51.23016   40.76984  148.76984  349.76984  156.76984"
      ]
     },
     "metadata": {},
     "output_type": "display_data"
    }
   ],
   "source": [
    "#calcular a media de todos os anos para o estado de sao paulo\n",
    "mediasp = mean(curetagem$São.Paulo)\n",
    "\n",
    "#calcular a diferença da media e os valores mensais\n",
    "difsp = curetagem$São.Paulo - mediasp\n",
    "head(difsp)\n"
   ]
  },
  {
   "cell_type": "code",
   "execution_count": 7,
   "metadata": {},
   "outputs": [
    {
     "data": {
      "text/html": [
       "<table>\n",
       "<thead><tr><th scope=col>Data</th><th scope=col>Ano</th><th scope=col>difsp</th></tr></thead>\n",
       "<tbody>\n",
       "\t<tr><td>2008/Jan  </td><td>2008      </td><td>-698.23016</td></tr>\n",
       "\t<tr><td>2008/Fev  </td><td>2008      </td><td> -51.23016</td></tr>\n",
       "\t<tr><td>2008/Mar  </td><td>2008      </td><td>  40.76984</td></tr>\n",
       "\t<tr><td>2008/Abr  </td><td>2008      </td><td> 148.76984</td></tr>\n",
       "\t<tr><td>2008/Mai  </td><td>2008      </td><td> 349.76984</td></tr>\n",
       "\t<tr><td>2008/Jun  </td><td>2008      </td><td> 156.76984</td></tr>\n",
       "</tbody>\n",
       "</table>\n"
      ],
      "text/latex": [
       "\\begin{tabular}{r|lll}\n",
       " Data & Ano & difsp\\\\\n",
       "\\hline\n",
       "\t 2008/Jan   & 2008       & -698.23016\\\\\n",
       "\t 2008/Fev   & 2008       &  -51.23016\\\\\n",
       "\t 2008/Mar   & 2008       &   40.76984\\\\\n",
       "\t 2008/Abr   & 2008       &  148.76984\\\\\n",
       "\t 2008/Mai   & 2008       &  349.76984\\\\\n",
       "\t 2008/Jun   & 2008       &  156.76984\\\\\n",
       "\\end{tabular}\n"
      ],
      "text/markdown": [
       "\n",
       "Data | Ano | difsp | \n",
       "|---|---|---|---|---|---|\n",
       "| 2008/Jan   | 2008       | -698.23016 | \n",
       "| 2008/Fev   | 2008       |  -51.23016 | \n",
       "| 2008/Mar   | 2008       |   40.76984 | \n",
       "| 2008/Abr   | 2008       |  148.76984 | \n",
       "| 2008/Mai   | 2008       |  349.76984 | \n",
       "| 2008/Jun   | 2008       |  156.76984 | \n",
       "\n",
       "\n"
      ],
      "text/plain": [
       "  Data     Ano  difsp     \n",
       "1 2008/Jan 2008 -698.23016\n",
       "2 2008/Fev 2008  -51.23016\n",
       "3 2008/Mar 2008   40.76984\n",
       "4 2008/Abr 2008  148.76984\n",
       "5 2008/Mai 2008  349.76984\n",
       "6 2008/Jun 2008  156.76984"
      ]
     },
     "metadata": {},
     "output_type": "display_data"
    }
   ],
   "source": [
    "#criar um dataframe para conter estes valores\n",
    "difsp_df <- data.frame(curetagem$Data, curetagem$Ano, difsp)\n",
    "#mudar o nome das colunas desse dataframe (pra ficar mais resumido)\n",
    "names(difsp_df) <- c(\"Data\",\"Ano\",\"difsp\") \n",
    "head(difsp_df)\n"
   ]
  },
  {
   "cell_type": "code",
   "execution_count": 8,
   "metadata": {},
   "outputs": [
    {
     "data": {
      "text/html": [
       "<table>\n",
       "<thead><tr><th scope=col>Data</th><th scope=col>Ano</th><th scope=col>difsp</th></tr></thead>\n",
       "<tbody>\n",
       "\t<tr><td>2017/Jan  </td><td>2017      </td><td> -78.23016</td></tr>\n",
       "\t<tr><td>2017/Fev  </td><td>2017      </td><td>-326.23016</td></tr>\n",
       "\t<tr><td>2017/Mar  </td><td>2017      </td><td>-178.23016</td></tr>\n",
       "\t<tr><td>2017/Abr  </td><td>2017      </td><td>-564.23016</td></tr>\n",
       "\t<tr><td>2017/Mai  </td><td>2017      </td><td>-324.23016</td></tr>\n",
       "\t<tr><td>2017/Jun  </td><td>2017      </td><td>-244.23016</td></tr>\n",
       "</tbody>\n",
       "</table>\n"
      ],
      "text/latex": [
       "\\begin{tabular}{r|lll}\n",
       " Data & Ano & difsp\\\\\n",
       "\\hline\n",
       "\t 2017/Jan   & 2017       &  -78.23016\\\\\n",
       "\t 2017/Fev   & 2017       & -326.23016\\\\\n",
       "\t 2017/Mar   & 2017       & -178.23016\\\\\n",
       "\t 2017/Abr   & 2017       & -564.23016\\\\\n",
       "\t 2017/Mai   & 2017       & -324.23016\\\\\n",
       "\t 2017/Jun   & 2017       & -244.23016\\\\\n",
       "\\end{tabular}\n"
      ],
      "text/markdown": [
       "\n",
       "Data | Ano | difsp | \n",
       "|---|---|---|---|---|---|\n",
       "| 2017/Jan   | 2017       |  -78.23016 | \n",
       "| 2017/Fev   | 2017       | -326.23016 | \n",
       "| 2017/Mar   | 2017       | -178.23016 | \n",
       "| 2017/Abr   | 2017       | -564.23016 | \n",
       "| 2017/Mai   | 2017       | -324.23016 | \n",
       "| 2017/Jun   | 2017       | -244.23016 | \n",
       "\n",
       "\n"
      ],
      "text/plain": [
       "  Data     Ano  difsp     \n",
       "1 2017/Jan 2017  -78.23016\n",
       "2 2017/Fev 2017 -326.23016\n",
       "3 2017/Mar 2017 -178.23016\n",
       "4 2017/Abr 2017 -564.23016\n",
       "5 2017/Mai 2017 -324.23016\n",
       "6 2017/Jun 2017 -244.23016"
      ]
     },
     "metadata": {},
     "output_type": "display_data"
    }
   ],
   "source": [
    "#Filtrar somente dados de curetagem do ano de 2017\n",
    "dif2017 <- filter(difsp_df, Ano==2017) \n",
    "head(dif2017)\n"
   ]
  },
  {
   "cell_type": "code",
   "execution_count": 9,
   "metadata": {},
   "outputs": [
    {
     "data": {
      "text/html": [
       "<table>\n",
       "<thead><tr><th></th><th scope=col>Data</th><th scope=col>Ano</th><th scope=col>difsp</th></tr></thead>\n",
       "<tbody>\n",
       "\t<tr><th scope=row>4</th><td>2017/Abr </td><td>2017     </td><td>-564.2302</td></tr>\n",
       "\t<tr><th scope=row>2</th><td>2017/Fev </td><td>2017     </td><td>-326.2302</td></tr>\n",
       "\t<tr><th scope=row>5</th><td>2017/Mai </td><td>2017     </td><td>-324.2302</td></tr>\n",
       "</tbody>\n",
       "</table>\n"
      ],
      "text/latex": [
       "\\begin{tabular}{r|lll}\n",
       "  & Data & Ano & difsp\\\\\n",
       "\\hline\n",
       "\t4 & 2017/Abr  & 2017      & -564.2302\\\\\n",
       "\t2 & 2017/Fev  & 2017      & -326.2302\\\\\n",
       "\t5 & 2017/Mai  & 2017      & -324.2302\\\\\n",
       "\\end{tabular}\n"
      ],
      "text/markdown": [
       "\n",
       "| <!--/--> | Data | Ano | difsp | \n",
       "|---|---|---|\n",
       "| 4 | 2017/Abr  | 2017      | -564.2302 | \n",
       "| 2 | 2017/Fev  | 2017      | -326.2302 | \n",
       "| 5 | 2017/Mai  | 2017      | -324.2302 | \n",
       "\n",
       "\n"
      ],
      "text/plain": [
       "  Data     Ano  difsp    \n",
       "4 2017/Abr 2017 -564.2302\n",
       "2 2017/Fev 2017 -326.2302\n",
       "5 2017/Mai 2017 -324.2302"
      ]
     },
     "metadata": {},
     "output_type": "display_data"
    },
    {
     "data": {
      "text/html": [
       "<table>\n",
       "<thead><tr><th></th><th scope=col>Data</th><th scope=col>Ano</th><th scope=col>difsp</th></tr></thead>\n",
       "<tbody>\n",
       "\t<tr><th scope=row>11</th><td>2017/Nov </td><td>2017     </td><td> 94.76984</td></tr>\n",
       "\t<tr><th scope=row>10</th><td>2017/Out </td><td>2017     </td><td>116.76984</td></tr>\n",
       "\t<tr><th scope=row>8</th><td>2017/Ago </td><td>2017     </td><td>161.76984</td></tr>\n",
       "</tbody>\n",
       "</table>\n"
      ],
      "text/latex": [
       "\\begin{tabular}{r|lll}\n",
       "  & Data & Ano & difsp\\\\\n",
       "\\hline\n",
       "\t11 & 2017/Nov  & 2017      &  94.76984\\\\\n",
       "\t10 & 2017/Out  & 2017      & 116.76984\\\\\n",
       "\t8 & 2017/Ago  & 2017      & 161.76984\\\\\n",
       "\\end{tabular}\n"
      ],
      "text/markdown": [
       "\n",
       "| <!--/--> | Data | Ano | difsp | \n",
       "|---|---|---|\n",
       "| 11 | 2017/Nov  | 2017      |  94.76984 | \n",
       "| 10 | 2017/Out  | 2017      | 116.76984 | \n",
       "| 8 | 2017/Ago  | 2017      | 161.76984 | \n",
       "\n",
       "\n"
      ],
      "text/plain": [
       "   Data     Ano  difsp    \n",
       "11 2017/Nov 2017  94.76984\n",
       "10 2017/Out 2017 116.76984\n",
       "8  2017/Ago 2017 161.76984"
      ]
     },
     "metadata": {},
     "output_type": "display_data"
    }
   ],
   "source": [
    "#Ordenar os dados das diferenças do ano de 2017 do menor para o maior \n",
    "# (usando como critério a coluna difsp)\n",
    "dif2017_ordenado = dif2017[order(dif2017$difsp),]\n",
    "#selecionar os 3 maiores (head = cabeça)\n",
    "head(dif2017_ordenado,3)\n",
    "#selecionar os 3 menores (tail = calda)\n",
    "tail(dif2017_ordenado,3)"
   ]
  },
  {
   "cell_type": "code",
   "execution_count": null,
   "metadata": {},
   "outputs": [],
   "source": [
    "# Repetir o mesmo procedimento para os anos de 2016, 2015 e 2014"
   ]
  },
  {
   "cell_type": "code",
   "execution_count": null,
   "metadata": {},
   "outputs": [],
   "source": [
    "# Responder as perguntas apresentadas no enunciado"
   ]
  },
  {
   "cell_type": "code",
   "execution_count": null,
   "metadata": {},
   "outputs": [],
   "source": []
  },
  {
   "cell_type": "code",
   "execution_count": null,
   "metadata": {},
   "outputs": [],
   "source": []
  }
 ],
 "metadata": {
  "kernelspec": {
   "display_name": "R",
   "language": "R",
   "name": "ir"
  },
  "language_info": {
   "codemirror_mode": "r",
   "file_extension": ".r",
   "mimetype": "text/x-r-source",
   "name": "R",
   "pygments_lexer": "r",
   "version": "3.4.4"
  }
 },
 "nbformat": 4,
 "nbformat_minor": 2
}
