{
 "cells": [
  {
   "cell_type": "code",
   "execution_count": 26,
   "metadata": {},
   "outputs": [],
   "source": [
    "setwd(\"C:/Users/alex/Google Drive/Aulas/Enap/EstatisticaDescritiva2018/R\")\n",
    "##Instale o pacote ggplot2 no RStudio antes de executar esse comando\n",
    "library(ggplot2)\n"
   ]
  },
  {
   "cell_type": "code",
   "execution_count": 27,
   "metadata": {},
   "outputs": [
    {
     "data": {
      "text/html": [
       "<table>\n",
       "<thead><tr><th scope=col>COD_UF</th><th scope=col>UF</th><th scope=col>COD_IBGE7</th><th scope=col>COD_IBGE</th><th scope=col>ideb2009</th><th scope=col>ideb2011</th><th scope=col>Nome.do.Município</th></tr></thead>\n",
       "<tbody>\n",
       "\t<tr><td>11                   </td><td>Rondônia             </td><td>1100015              </td><td>110001               </td><td>3.2                  </td><td>3.3                  </td><td>Alta Floresta D'Oeste</td></tr>\n",
       "\t<tr><td>11                   </td><td>Rondônia             </td><td>1100023              </td><td>110002               </td><td>3.6                  </td><td>3.9                  </td><td>Ariquemes            </td></tr>\n",
       "\t<tr><td>11                   </td><td>Rondônia             </td><td>1100031              </td><td>110003               </td><td>3.2                  </td><td>4.0                  </td><td>Cabixi               </td></tr>\n",
       "\t<tr><td>11                   </td><td>Rondônia             </td><td>1100049              </td><td>110004               </td><td>3.6                  </td><td>3.9                  </td><td>Cacoal               </td></tr>\n",
       "\t<tr><td>11                   </td><td>Rondônia             </td><td>1100056              </td><td>110005               </td><td>3.8                  </td><td>3.4                  </td><td>Cerejeiras           </td></tr>\n",
       "\t<tr><td>11                   </td><td>Rondônia             </td><td>1100064              </td><td>110006               </td><td>3.7                  </td><td>3.5                  </td><td>Colorado do Oeste    </td></tr>\n",
       "</tbody>\n",
       "</table>\n"
      ],
      "text/latex": [
       "\\begin{tabular}{r|lllllll}\n",
       " COD\\_UF & UF & COD\\_IBGE7 & COD\\_IBGE & ideb2009 & ideb2011 & Nome.do.Município\\\\\n",
       "\\hline\n",
       "\t 11                    & Rondônia              & 1100015               & 110001                & 3.2                   & 3.3                   & Alta Floresta D'Oeste\\\\\n",
       "\t 11                    & Rondônia              & 1100023               & 110002                & 3.6                   & 3.9                   & Ariquemes            \\\\\n",
       "\t 11                    & Rondônia              & 1100031               & 110003                & 3.2                   & 4.0                   & Cabixi               \\\\\n",
       "\t 11                    & Rondônia              & 1100049               & 110004                & 3.6                   & 3.9                   & Cacoal               \\\\\n",
       "\t 11                    & Rondônia              & 1100056               & 110005                & 3.8                   & 3.4                   & Cerejeiras           \\\\\n",
       "\t 11                    & Rondônia              & 1100064               & 110006                & 3.7                   & 3.5                   & Colorado do Oeste    \\\\\n",
       "\\end{tabular}\n"
      ],
      "text/markdown": [
       "\n",
       "COD_UF | UF | COD_IBGE7 | COD_IBGE | ideb2009 | ideb2011 | Nome.do.Município | \n",
       "|---|---|---|---|---|---|\n",
       "| 11                    | Rondônia              | 1100015               | 110001                | 3.2                   | 3.3                   | Alta Floresta D'Oeste | \n",
       "| 11                    | Rondônia              | 1100023               | 110002                | 3.6                   | 3.9                   | Ariquemes             | \n",
       "| 11                    | Rondônia              | 1100031               | 110003                | 3.2                   | 4.0                   | Cabixi                | \n",
       "| 11                    | Rondônia              | 1100049               | 110004                | 3.6                   | 3.9                   | Cacoal                | \n",
       "| 11                    | Rondônia              | 1100056               | 110005                | 3.8                   | 3.4                   | Cerejeiras            | \n",
       "| 11                    | Rondônia              | 1100064               | 110006                | 3.7                   | 3.5                   | Colorado do Oeste     | \n",
       "\n",
       "\n"
      ],
      "text/plain": [
       "  COD_UF UF       COD_IBGE7 COD_IBGE ideb2009 ideb2011 Nome.do.Município    \n",
       "1 11     Rondônia 1100015   110001   3.2      3.3      Alta Floresta D'Oeste\n",
       "2 11     Rondônia 1100023   110002   3.6      3.9      Ariquemes            \n",
       "3 11     Rondônia 1100031   110003   3.2      4.0      Cabixi               \n",
       "4 11     Rondônia 1100049   110004   3.6      3.9      Cacoal               \n",
       "5 11     Rondônia 1100056   110005   3.8      3.4      Cerejeiras           \n",
       "6 11     Rondônia 1100064   110006   3.7      3.5      Colorado do Oeste    "
      ]
     },
     "metadata": {},
     "output_type": "display_data"
    },
    {
     "name": "stderr",
     "output_type": "stream",
     "text": [
      "Warning message:\n",
      "\"Removed 3 rows containing non-finite values (stat_boxplot).\""
     ]
    },
    {
     "data": {},
     "metadata": {},
     "output_type": "display_data"
    },
    {
     "data": {
      "image/png": "[encoded data removed]",
      "text/plain": [
       "plot without title"
      ]
     },
     "metadata": {},
     "output_type": "display_data"
    }
   ],
   "source": [
    "idebm <- read.csv(file=\"../dados/IDEB/municipal/ideb_municipal_20092011.csv\", header=TRUE, sep=\",\")\n",
    "head(idebm)\n",
    "qplot(x = UF, \n",
    "      y = ideb2009,\n",
    "      data = subset(idebm, idebm$COD_UF < 15), \n",
    "      geom = 'boxplot')"
   ]
  }
 ],
 "metadata": {
  "kernelspec": {
   "display_name": "R",
   "language": "R",
   "name": "ir"
  },
  "language_info": {
   "codemirror_mode": "r",
   "file_extension": ".r",
   "mimetype": "text/x-r-source",
   "name": "R",
   "pygments_lexer": "r",
   "version": "3.5.1"
  }
 },
 "nbformat": 4,
 "nbformat_minor": 2
}
