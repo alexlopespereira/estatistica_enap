{
 "cells": [
  {
   "cell_type": "markdown",
   "metadata": {},
   "source": [
    "## Conceitos básicos do R"
   ]
  },
  {
   "cell_type": "markdown",
   "metadata": {},
   "source": [
    "#### Baseado no curso disponivel gratuitamente em https://campus.datacamp.com/courses/free-introduction-to-r"
   ]
  },
  {
   "cell_type": "markdown",
   "metadata": {},
   "source": [
    "Codigo para: a recebe 3, b recebe 4, c recebe 3+4"
   ]
  },
  {
   "cell_type": "code",
   "execution_count": 8,
   "metadata": {},
   "outputs": [],
   "source": [
    "#1\n",
    "a <- 5\n",
    "b <- 4\n",
    "c <- a+b"
   ]
  },
  {
   "cell_type": "code",
   "execution_count": 1,
   "metadata": {},
   "outputs": [
    {
     "data": {
      "text/html": [
       "4"
      ],
      "text/latex": [
       "4"
      ],
      "text/markdown": [
       "4"
      ],
      "text/plain": [
       "[1] 4"
      ]
     },
     "metadata": {},
     "output_type": "display_data"
    }
   ],
   "source": [
    "#2\n",
    "\n",
    "d <- 4\n",
    "d"
   ]
  },
  {
   "cell_type": "markdown",
   "metadata": {},
   "source": [
    "Codigo para imprimir o valor de c"
   ]
  },
  {
   "cell_type": "code",
   "execution_count": 9,
   "metadata": {},
   "outputs": [
    {
     "data": {
      "text/html": [
       "5"
      ],
      "text/latex": [
       "5"
      ],
      "text/markdown": [
       "5"
      ],
      "text/plain": [
       "[1] 5"
      ]
     },
     "metadata": {},
     "output_type": "display_data"
    }
   ],
   "source": [
    "a"
   ]
  },
  {
   "cell_type": "markdown",
   "metadata": {},
   "source": [
    "Tipos de variaveis: string, numerico e lógico (True e False)"
   ]
  },
  {
   "cell_type": "code",
   "execution_count": 2,
   "metadata": {},
   "outputs": [
    {
     "data": {
      "text/html": [
       "42.5"
      ],
      "text/latex": [
       "42.5"
      ],
      "text/markdown": [
       "42.5"
      ],
      "text/plain": [
       "[1] 42.5"
      ]
     },
     "metadata": {},
     "output_type": "display_data"
    },
    {
     "data": {
      "text/html": [
       "'numeric'"
      ],
      "text/latex": [
       "'numeric'"
      ],
      "text/markdown": [
       "'numeric'"
      ],
      "text/plain": [
       "[1] \"numeric\""
      ]
     },
     "metadata": {},
     "output_type": "display_data"
    },
    {
     "data": {
      "text/html": [
       "'exemplo'"
      ],
      "text/latex": [
       "'exemplo'"
      ],
      "text/markdown": [
       "'exemplo'"
      ],
      "text/plain": [
       "[1] \"exemplo\""
      ]
     },
     "metadata": {},
     "output_type": "display_data"
    },
    {
     "data": {
      "text/html": [
       "'character'"
      ],
      "text/latex": [
       "'character'"
      ],
      "text/markdown": [
       "'character'"
      ],
      "text/plain": [
       "[1] \"character\""
      ]
     },
     "metadata": {},
     "output_type": "display_data"
    },
    {
     "data": {
      "text/html": [
       "TRUE"
      ],
      "text/latex": [
       "TRUE"
      ],
      "text/markdown": [
       "TRUE"
      ],
      "text/plain": [
       "[1] TRUE"
      ]
     },
     "metadata": {},
     "output_type": "display_data"
    },
    {
     "data": {
      "text/html": [
       "'logical'"
      ],
      "text/latex": [
       "'logical'"
      ],
      "text/markdown": [
       "'logical'"
      ],
      "text/plain": [
       "[1] \"logical\""
      ]
     },
     "metadata": {},
     "output_type": "display_data"
    }
   ],
   "source": [
    "#3\n",
    "# Mude para 42\n",
    "var_numerico <- 42.5\n",
    "var_numerico\n",
    "class(var_numerico)\n",
    "\n",
    "# Mude para \"universo\"\n",
    "var_caracterer <- \"exemplo\"\n",
    "var_caracterer\n",
    "class(var_caracterer)\n",
    "\n",
    "\n",
    "# Mude para FALSE\n",
    "var_logico <- TRUE\n",
    "var_logico\n",
    "class(var_logico)"
   ]
  },
  {
   "cell_type": "markdown",
   "metadata": {},
   "source": [
    "Variavel do tipo vetor. Um vetor guarda uma série de dados. Então o vetor tem uma dimensão."
   ]
  },
  {
   "cell_type": "code",
   "execution_count": 11,
   "metadata": {},
   "outputs": [
    {
     "ename": "ERROR",
     "evalue": "Error in parse(text = x, srcfile = src): <text>:6:0: unexpected end of input\n4: # Complete o codigo com um vetor logico\n5: boolean_vetor <-\n  ^\n",
     "output_type": "error",
     "traceback": [
      "Error in parse(text = x, srcfile = src): <text>:6:0: unexpected end of input\n4: # Complete o codigo com um vetor logico\n5: boolean_vetor <-\n  ^\nTraceback:\n"
     ]
    }
   ],
   "source": [
    "#4\n",
    "\n",
    "numerico_vetor <- c(1, 10, 49)\n",
    "caracter_vetor <- c(\"a\", \"b\", \"c\")\n",
    "\n",
    "# Complete o codigo com um vetor logico\n",
    "boolean_vetor <-"
   ]
  },
  {
   "cell_type": "markdown",
   "metadata": {},
   "source": [
    "### Considere os dados do seu desempenho num cassino."
   ]
  },
  {
   "cell_type": "code",
   "execution_count": 5,
   "metadata": {},
   "outputs": [],
   "source": [
    "#5\n",
    "# Numeros podem ser positivos ou negativos (Exemplos de ganhos e perdas num jogo de poker de 2a a 6a feira)\n",
    "poker_vetor <- c(140, -50, 20, -120, 240)\n",
    "\n",
    "# Exemplos de ganhos e perdas num jogo de roleta de 2a a 6a feira\n",
    "rouleta_vetor <-  c(-24, -50, 100, -350, 10)"
   ]
  },
  {
   "cell_type": "code",
   "execution_count": 6,
   "metadata": {},
   "outputs": [
    {
     "data": {
      "text/html": [
       "<dl class=dl-horizontal>\n",
       "\t<dt>Segunda</dt>\n",
       "\t\t<dd>140</dd>\n",
       "\t<dt>Terça</dt>\n",
       "\t\t<dd>-50</dd>\n",
       "\t<dt>Quarta</dt>\n",
       "\t\t<dd>20</dd>\n",
       "\t<dt>Quinta</dt>\n",
       "\t\t<dd>-120</dd>\n",
       "\t<dt>Sexta</dt>\n",
       "\t\t<dd>240</dd>\n",
       "</dl>\n"
      ],
      "text/latex": [
       "\\begin{description*}\n",
       "\\item[Segunda] 140\n",
       "\\item[Terça] -50\n",
       "\\item[Quarta] 20\n",
       "\\item[Quinta] -120\n",
       "\\item[Sexta] 240\n",
       "\\end{description*}\n"
      ],
      "text/markdown": [
       "Segunda\n",
       ":   140Terça\n",
       ":   -50Quarta\n",
       ":   20Quinta\n",
       ":   -120Sexta\n",
       ":   240\n",
       "\n"
      ],
      "text/plain": [
       "Segunda   Terça  Quarta  Quinta   Sexta \n",
       "    140     -50      20    -120     240 "
      ]
     },
     "metadata": {},
     "output_type": "display_data"
    },
    {
     "data": {
      "text/html": [
       "<dl class=dl-horizontal>\n",
       "\t<dt>Segunda</dt>\n",
       "\t\t<dd>-24</dd>\n",
       "\t<dt>Terça</dt>\n",
       "\t\t<dd>-50</dd>\n",
       "\t<dt>Quarta</dt>\n",
       "\t\t<dd>100</dd>\n",
       "\t<dt>Quinta</dt>\n",
       "\t\t<dd>-350</dd>\n",
       "\t<dt>Sexta</dt>\n",
       "\t\t<dd>10</dd>\n",
       "</dl>\n"
      ],
      "text/latex": [
       "\\begin{description*}\n",
       "\\item[Segunda] -24\n",
       "\\item[Terça] -50\n",
       "\\item[Quarta] 100\n",
       "\\item[Quinta] -350\n",
       "\\item[Sexta] 10\n",
       "\\end{description*}\n"
      ],
      "text/markdown": [
       "Segunda\n",
       ":   -24Terça\n",
       ":   -50Quarta\n",
       ":   100Quinta\n",
       ":   -350Sexta\n",
       ":   10\n",
       "\n"
      ],
      "text/plain": [
       "Segunda   Terça  Quarta  Quinta   Sexta \n",
       "    -24     -50     100    -350      10 "
      ]
     },
     "metadata": {},
     "output_type": "display_data"
    }
   ],
   "source": [
    "#6\n",
    "# Atribua os dias da semana pra uma variavel\n",
    "dias_vetor <- c(\"Segunda\", \"Terça\", \"Quarta\", \"Quinta\", \"Sexta\")\n",
    "\n",
    "# Atribua nomes para os valores das colunas do poker_vetor\n",
    "names(poker_vetor) <- dias_vetor\n",
    "poker_vetor\n",
    "\n",
    "# Atribua nomes para os valores das colunas do poker_vetor\n",
    "names(rouleta_vetor) <- dias_vetor\n",
    "rouleta_vetor"
   ]
  },
  {
   "cell_type": "markdown",
   "metadata": {},
   "source": [
    "Operacoes vetoriais"
   ]
  },
  {
   "cell_type": "code",
   "execution_count": 12,
   "metadata": {},
   "outputs": [
    {
     "data": {
      "text/html": [
       "<ol class=list-inline>\n",
       "\t<li>5</li>\n",
       "\t<li>7</li>\n",
       "\t<li>9</li>\n",
       "</ol>\n"
      ],
      "text/latex": [
       "\\begin{enumerate*}\n",
       "\\item 5\n",
       "\\item 7\n",
       "\\item 9\n",
       "\\end{enumerate*}\n"
      ],
      "text/markdown": [
       "1. 5\n",
       "2. 7\n",
       "3. 9\n",
       "\n",
       "\n"
      ],
      "text/plain": [
       "[1] 5 7 9"
      ]
     },
     "metadata": {},
     "output_type": "display_data"
    },
    {
     "data": {
      "text/html": [
       "<ol class=list-inline>\n",
       "\t<li>4</li>\n",
       "\t<li>10</li>\n",
       "\t<li>18</li>\n",
       "</ol>\n"
      ],
      "text/latex": [
       "\\begin{enumerate*}\n",
       "\\item 4\n",
       "\\item 10\n",
       "\\item 18\n",
       "\\end{enumerate*}\n"
      ],
      "text/markdown": [
       "1. 4\n",
       "2. 10\n",
       "3. 18\n",
       "\n",
       "\n"
      ],
      "text/plain": [
       "[1]  4 10 18"
      ]
     },
     "metadata": {},
     "output_type": "display_data"
    }
   ],
   "source": [
    "#7\n",
    "A_vector <- c(1, 2, 3)\n",
    "B_vector <- c(4, 5, 6)\n",
    "\n",
    "# Somar A_vector e B_vector\n",
    "total_vector <- A_vector + B_vector\n",
    "  \n",
    "# Imprimir total_vector\n",
    "total_vector\n",
    "\n",
    "#multiplicar \n",
    "multiplicado_vector <- A_vector * B_vector\n",
    "\n",
    "# Imprimir multiplicado_vector\n",
    "multiplicado_vector"
   ]
  },
  {
   "cell_type": "markdown",
   "metadata": {},
   "source": [
    "Calcule o saldo diário considerando os ganhos e perdas do jogo de poker e da roleta"
   ]
  },
  {
   "cell_type": "code",
   "execution_count": null,
   "metadata": {},
   "outputs": [],
   "source": [
    "#8\n",
    "saldo_diario <- "
   ]
  },
  {
   "cell_type": "code",
   "execution_count": 22,
   "metadata": {},
   "outputs": [],
   "source": [
    "#9\n",
    "# Saldo do poker\n",
    "total_poker <- sum(poker_vetor)\n",
    "\n",
    "# Saldo da roleta\n",
    "total_rouleta <- sum(rouleta_vetor)\n",
    "\n",
    "# Saldo Total \n",
    "total_semana <-  \n",
    "\n",
    "# Imprimir total_semana\n"
   ]
  },
  {
   "cell_type": "code",
   "execution_count": 23,
   "metadata": {},
   "outputs": [
    {
     "data": {
      "text/html": [
       "TRUE"
      ],
      "text/latex": [
       "TRUE"
      ],
      "text/markdown": [
       "TRUE"
      ],
      "text/plain": [
       "[1] TRUE"
      ]
     },
     "metadata": {},
     "output_type": "display_data"
    }
   ],
   "source": [
    "#10\n",
    "# Que ganho foi maior? Do poker ou da roleta?\n",
    "total_poker > total_rouleta"
   ]
  },
  {
   "cell_type": "code",
   "execution_count": 32,
   "metadata": {},
   "outputs": [
    {
     "data": {
      "text/html": [
       "<strong>Quarta:</strong> 20"
      ],
      "text/latex": [
       "\\textbf{Quarta:} 20"
      ],
      "text/markdown": [
       "**Quarta:** 20"
      ],
      "text/plain": [
       "Quarta \n",
       "    20 "
      ]
     },
     "metadata": {},
     "output_type": "display_data"
    }
   ],
   "source": [
    "#11\n",
    "# Valor ganho no poker na Quarta\n",
    "poker_quarta <- poker_vetor[3]\n",
    "poker_quarta"
   ]
  },
  {
   "cell_type": "code",
   "execution_count": 31,
   "metadata": {},
   "outputs": [
    {
     "data": {
      "text/html": [
       "<dl class=dl-horizontal>\n",
       "\t<dt>Terça</dt>\n",
       "\t\t<dd>-50</dd>\n",
       "\t<dt>Quarta</dt>\n",
       "\t\t<dd>20</dd>\n",
       "\t<dt>Quinta</dt>\n",
       "\t\t<dd>-120</dd>\n",
       "</dl>\n"
      ],
      "text/latex": [
       "\\begin{description*}\n",
       "\\item[Terça] -50\n",
       "\\item[Quarta] 20\n",
       "\\item[Quinta] -120\n",
       "\\end{description*}\n"
      ],
      "text/markdown": [
       "Terça\n",
       ":   -50Quarta\n",
       ":   20Quinta\n",
       ":   -120\n",
       "\n"
      ],
      "text/plain": [
       " Terça Quarta Quinta \n",
       "   -50     20   -120 "
      ]
     },
     "metadata": {},
     "output_type": "display_data"
    }
   ],
   "source": [
    "#12\n",
    "# Valores do poker de Terça a Quinta\n",
    "poker_meiodasemana <- poker_vetor[c(2, 3, 4)]\n",
    "poker_meiodasemana"
   ]
  },
  {
   "cell_type": "code",
   "execution_count": null,
   "metadata": {},
   "outputs": [],
   "source": [
    "#13\n",
    "# Valores da roleta de Terça a Sexta\n",
    "roulette_selection_vector <- rouleta_vetor[2:5]"
   ]
  },
  {
   "cell_type": "code",
   "execution_count": null,
   "metadata": {},
   "outputs": [],
   "source": [
    "#14\n",
    "# Selecione os resultados do poker de \"Segunda\",\"Terça\" e \"Quarta\"\n",
    "poker_inicio <- poker_vetor[c(\"Segunda\",\"Terça\",\"Quarta\")]\n",
    "  \n",
    "# Calcule a media artimética dos valores do poker_inicio com o comando mean() passando esta variavel como parâmetro\n"
   ]
  },
  {
   "cell_type": "markdown",
   "metadata": {},
   "source": [
    "Operadores logicos do R: > , < , == , >= , <= , !="
   ]
  },
  {
   "cell_type": "code",
   "execution_count": 28,
   "metadata": {},
   "outputs": [
    {
     "data": {
      "text/html": [
       "<ol class=list-inline>\n",
       "\t<li>FALSE</li>\n",
       "\t<li>FALSE</li>\n",
       "\t<li>TRUE</li>\n",
       "</ol>\n"
      ],
      "text/latex": [
       "\\begin{enumerate*}\n",
       "\\item FALSE\n",
       "\\item FALSE\n",
       "\\item TRUE\n",
       "\\end{enumerate*}\n"
      ],
      "text/markdown": [
       "1. FALSE\n",
       "2. FALSE\n",
       "3. TRUE\n",
       "\n",
       "\n"
      ],
      "text/plain": [
       "[1] FALSE FALSE  TRUE"
      ]
     },
     "metadata": {},
     "output_type": "display_data"
    }
   ],
   "source": [
    "#15\n",
    "c(4, 5, 6) > 5"
   ]
  },
  {
   "cell_type": "code",
   "execution_count": null,
   "metadata": {},
   "outputs": [],
   "source": [
    "#16\n",
    "#Em quais dias você ganhou dinheiro?\n",
    "selecao_vetor <- \n",
    "  \n",
    "#Imprimir o vetor de selecao\n"
   ]
  },
  {
   "cell_type": "code",
   "execution_count": 42,
   "metadata": {},
   "outputs": [
    {
     "data": {
      "text/html": [
       "<dl class=dl-horizontal>\n",
       "\t<dt>Segunda</dt>\n",
       "\t\t<dd>TRUE</dd>\n",
       "\t<dt>Terça</dt>\n",
       "\t\t<dd>FALSE</dd>\n",
       "\t<dt>Quarta</dt>\n",
       "\t\t<dd>TRUE</dd>\n",
       "\t<dt>Quinta</dt>\n",
       "\t\t<dd>FALSE</dd>\n",
       "\t<dt>Sexta</dt>\n",
       "\t\t<dd>TRUE</dd>\n",
       "</dl>\n"
      ],
      "text/latex": [
       "\\begin{description*}\n",
       "\\item[Segunda] TRUE\n",
       "\\item[Terça] FALSE\n",
       "\\item[Quarta] TRUE\n",
       "\\item[Quinta] FALSE\n",
       "\\item[Sexta] TRUE\n",
       "\\end{description*}\n"
      ],
      "text/markdown": [
       "Segunda\n",
       ":   TRUETerça\n",
       ":   FALSEQuarta\n",
       ":   TRUEQuinta\n",
       ":   FALSESexta\n",
       ":   TRUE\n",
       "\n"
      ],
      "text/plain": [
       "Segunda   Terça  Quarta  Quinta   Sexta \n",
       "   TRUE   FALSE    TRUE   FALSE    TRUE "
      ]
     },
     "metadata": {},
     "output_type": "display_data"
    },
    {
     "data": {
      "text/html": [
       "<ol class=list-inline>\n",
       "\t<li>'Segunda'</li>\n",
       "\t<li>'Quarta'</li>\n",
       "\t<li>'Sexta'</li>\n",
       "</ol>\n"
      ],
      "text/latex": [
       "\\begin{enumerate*}\n",
       "\\item 'Segunda'\n",
       "\\item 'Quarta'\n",
       "\\item 'Sexta'\n",
       "\\end{enumerate*}\n"
      ],
      "text/markdown": [
       "1. 'Segunda'\n",
       "2. 'Quarta'\n",
       "3. 'Sexta'\n",
       "\n",
       "\n"
      ],
      "text/plain": [
       "[1] \"Segunda\" \"Quarta\"  \"Sexta\"  "
      ]
     },
     "metadata": {},
     "output_type": "display_data"
    }
   ],
   "source": [
    "#17\n",
    "# Em quais dias você ganhou dinheiro no poker?\n",
    "selecao_vetor_poker <- poker_vetor > 0 \n",
    "\n",
    "selecao_vetor_poker\n",
    "\n",
    "# Quais são os nomes desses dias\n",
    "# No exemplo abaixo o R retorna os resultados onde o valor do vetor de seleção é TRUE\n",
    "poker_dias_ganhos <- dias_vetor[selecao_vetor_poker] \n",
    "poker_dias_ganhos"
   ]
  },
  {
   "cell_type": "code",
   "execution_count": 43,
   "metadata": {},
   "outputs": [
    {
     "data": {
      "text/html": [
       "<dl class=dl-horizontal>\n",
       "\t<dt>Segunda</dt>\n",
       "\t\t<dd>140</dd>\n",
       "\t<dt>Quarta</dt>\n",
       "\t\t<dd>20</dd>\n",
       "\t<dt>Sexta</dt>\n",
       "\t\t<dd>240</dd>\n",
       "</dl>\n"
      ],
      "text/latex": [
       "\\begin{description*}\n",
       "\\item[Segunda] 140\n",
       "\\item[Quarta] 20\n",
       "\\item[Sexta] 240\n",
       "\\end{description*}\n"
      ],
      "text/markdown": [
       "Segunda\n",
       ":   140Quarta\n",
       ":   20Sexta\n",
       ":   240\n",
       "\n"
      ],
      "text/plain": [
       "Segunda  Quarta   Sexta \n",
       "    140      20     240 "
      ]
     },
     "metadata": {},
     "output_type": "display_data"
    }
   ],
   "source": [
    "#18\n",
    "# Quanto você ganhou no poker em cada um desses dias?\n",
    "total_ganhos_poker <- \n",
    "\n",
    "# Quanto é a soma desses ganhos ?"
   ]
  },
  {
   "cell_type": "markdown",
   "metadata": {},
   "source": [
    "### Trabalhando com matrix"
   ]
  },
  {
   "cell_type": "code",
   "execution_count": 49,
   "metadata": {},
   "outputs": [
    {
     "data": {
      "text/html": [
       "<table>\n",
       "<tbody>\n",
       "\t<tr><td>1 </td><td> 2</td><td> 3</td><td> 4</td></tr>\n",
       "\t<tr><td>5 </td><td> 6</td><td> 7</td><td> 8</td></tr>\n",
       "\t<tr><td>9 </td><td>10</td><td>11</td><td>12</td></tr>\n",
       "</tbody>\n",
       "</table>\n"
      ],
      "text/latex": [
       "\\begin{tabular}{llll}\n",
       "\t 1  &  2 &  3 &  4\\\\\n",
       "\t 5  &  6 &  7 &  8\\\\\n",
       "\t 9  & 10 & 11 & 12\\\\\n",
       "\\end{tabular}\n"
      ],
      "text/markdown": [
       "\n",
       "| 1  |  2 |  3 |  4 | \n",
       "| 5  |  6 |  7 |  8 | \n",
       "| 9  | 10 | 11 | 12 | \n",
       "\n",
       "\n"
      ],
      "text/plain": [
       "     [,1] [,2] [,3] [,4]\n",
       "[1,] 1     2    3    4  \n",
       "[2,] 5     6    7    8  \n",
       "[3,] 9    10   11   12  "
      ]
     },
     "metadata": {},
     "output_type": "display_data"
    },
    {
     "data": {
      "text/html": [
       "<table>\n",
       "<tbody>\n",
       "\t<tr><td>1 </td><td>4 </td><td>7 </td><td>10</td></tr>\n",
       "\t<tr><td>2 </td><td>5 </td><td>8 </td><td>11</td></tr>\n",
       "\t<tr><td>3 </td><td>6 </td><td>9 </td><td>12</td></tr>\n",
       "</tbody>\n",
       "</table>\n"
      ],
      "text/latex": [
       "\\begin{tabular}{llll}\n",
       "\t 1  & 4  & 7  & 10\\\\\n",
       "\t 2  & 5  & 8  & 11\\\\\n",
       "\t 3  & 6  & 9  & 12\\\\\n",
       "\\end{tabular}\n"
      ],
      "text/markdown": [
       "\n",
       "| 1  | 4  | 7  | 10 | \n",
       "| 2  | 5  | 8  | 11 | \n",
       "| 3  | 6  | 9  | 12 | \n",
       "\n",
       "\n"
      ],
      "text/plain": [
       "     [,1] [,2] [,3] [,4]\n",
       "[1,] 1    4    7    10  \n",
       "[2,] 2    5    8    11  \n",
       "[3,] 3    6    9    12  "
      ]
     },
     "metadata": {},
     "output_type": "display_data"
    }
   ],
   "source": [
    "#19\n",
    "# A função matrix cria uma matriz com os valores do argumento data. \n",
    "# O números de linhas e colunas são definidos pelos argumentos nrow e ncol:\n",
    "minha.matriz <- matrix(data=1:12, byrow = TRUE, nrow=3,ncol=4)\n",
    "minha.matriz\n",
    "\n",
    "minha.matriz <- matrix(data=1:12, byrow = FALSE, nrow=3,ncol=4)\n",
    "minha.matriz\n",
    "\n",
    "# Qual a diferença no resultado dos dois comandos acima ?"
   ]
  },
  {
   "cell_type": "code",
   "execution_count": 3,
   "metadata": {},
   "outputs": [],
   "source": [
    "#20\n",
    "# Faturamento dos filmes Gerra nas Estrelas (em milhões)\n",
    "new_hope <- c(460.998, 314.4)\n",
    "empire_strikes <- c(290.475, 247.900)\n",
    "return_jedi <- c(309.306, 165.8)\n",
    "\n",
    "# Crie um vetor de dados com o faturamento\n",
    "faturamento <- c(new_hope, empire_strikes, return_jedi)\n",
    "\n",
    "# Construa e imprima a matrix com estes dados\n",
    "star_wars_matrix <- "
   ]
  },
  {
   "cell_type": "code",
   "execution_count": 8,
   "metadata": {},
   "outputs": [
    {
     "data": {
      "text/html": [
       "<table>\n",
       "<tbody>\n",
       "\t<tr><td>460.998</td><td>247.900</td></tr>\n",
       "\t<tr><td>314.400</td><td>309.306</td></tr>\n",
       "\t<tr><td>290.475</td><td>165.800</td></tr>\n",
       "</tbody>\n",
       "</table>\n"
      ],
      "text/latex": [
       "\\begin{tabular}{ll}\n",
       "\t 460.998 & 247.900\\\\\n",
       "\t 314.400 & 309.306\\\\\n",
       "\t 290.475 & 165.800\\\\\n",
       "\\end{tabular}\n"
      ],
      "text/markdown": [
       "\n",
       "| 460.998 | 247.900 | \n",
       "| 314.400 | 309.306 | \n",
       "| 290.475 | 165.800 | \n",
       "\n",
       "\n"
      ],
      "text/plain": [
       "     [,1]    [,2]   \n",
       "[1,] 460.998 247.900\n",
       "[2,] 314.400 309.306\n",
       "[3,] 290.475 165.800"
      ]
     },
     "metadata": {},
     "output_type": "display_data"
    },
    {
     "data": {
      "text/html": [
       "247.9"
      ],
      "text/latex": [
       "247.9"
      ],
      "text/markdown": [
       "247.9"
      ],
      "text/plain": [
       "[1] 247.9"
      ]
     },
     "metadata": {},
     "output_type": "display_data"
    },
    {
     "data": {
      "text/html": [
       "<ol class=list-inline>\n",
       "\t<li>460.998</li>\n",
       "\t<li>314.4</li>\n",
       "\t<li>290.475</li>\n",
       "</ol>\n"
      ],
      "text/latex": [
       "\\begin{enumerate*}\n",
       "\\item 460.998\n",
       "\\item 314.4\n",
       "\\item 290.475\n",
       "\\end{enumerate*}\n"
      ],
      "text/markdown": [
       "1. 460.998\n",
       "2. 314.4\n",
       "3. 290.475\n",
       "\n",
       "\n"
      ],
      "text/plain": [
       "[1] 460.998 314.400 290.475"
      ]
     },
     "metadata": {},
     "output_type": "display_data"
    }
   ],
   "source": [
    "#21\n",
    "#Imprimir a star_wars_matrix\n",
    "star_wars_matrix\n",
    "\n",
    "#Selecionar um trecho da matriz. Todos os elementos da 1a linha\n",
    "#Sintaxe: MATRIZ[LINHAS, COLUNAS]\n",
    "#Uma unica célula: MATRIZ[1,2]    -   célula na linha 1 e coluna 2\n",
    "star_wars_matrix[1,2]\n"
   ]
  },
  {
   "cell_type": "code",
   "execution_count": 13,
   "metadata": {},
   "outputs": [
    {
     "data": {
      "text/html": [
       "<ol class=list-inline>\n",
       "\t<li>460.998</li>\n",
       "\t<li>314.4</li>\n",
       "\t<li>290.475</li>\n",
       "</ol>\n"
      ],
      "text/latex": [
       "\\begin{enumerate*}\n",
       "\\item 460.998\n",
       "\\item 314.4\n",
       "\\item 290.475\n",
       "\\end{enumerate*}\n"
      ],
      "text/markdown": [
       "1. 460.998\n",
       "2. 314.4\n",
       "3. 290.475\n",
       "\n",
       "\n"
      ],
      "text/plain": [
       "[1] 460.998 314.400 290.475"
      ]
     },
     "metadata": {},
     "output_type": "display_data"
    }
   ],
   "source": [
    "#22\n",
    "#Várias células: MATRIZ[1:3,1]   -  células nas linha 1 a 3 e coluna 1\n",
    "star_wars_matrix[1:3,1]"
   ]
  },
  {
   "cell_type": "code",
   "execution_count": 11,
   "metadata": {},
   "outputs": [
    {
     "data": {
      "text/html": [
       "<ol class=list-inline>\n",
       "\t<li>460.998</li>\n",
       "\t<li>247.9</li>\n",
       "</ol>\n"
      ],
      "text/latex": [
       "\\begin{enumerate*}\n",
       "\\item 460.998\n",
       "\\item 247.9\n",
       "\\end{enumerate*}\n"
      ],
      "text/markdown": [
       "1. 460.998\n",
       "2. 247.9\n",
       "\n",
       "\n"
      ],
      "text/plain": [
       "[1] 460.998 247.900"
      ]
     },
     "metadata": {},
     "output_type": "display_data"
    }
   ],
   "source": [
    "#23\n",
    "#Todas as colunas de uma linha: MATRIZ[1,]   -   todas células da linha 1 \n",
    "star_wars_matrix[1,]"
   ]
  },
  {
   "cell_type": "code",
   "execution_count": 12,
   "metadata": {},
   "outputs": [
    {
     "data": {
      "text/html": [
       "<table>\n",
       "<tbody>\n",
       "\t<tr><td>460.998</td><td>247.900</td></tr>\n",
       "\t<tr><td>314.400</td><td>309.306</td></tr>\n",
       "</tbody>\n",
       "</table>\n"
      ],
      "text/latex": [
       "\\begin{tabular}{ll}\n",
       "\t 460.998 & 247.900\\\\\n",
       "\t 314.400 & 309.306\\\\\n",
       "\\end{tabular}\n"
      ],
      "text/markdown": [
       "\n",
       "| 460.998 | 247.900 | \n",
       "| 314.400 | 309.306 | \n",
       "\n",
       "\n"
      ],
      "text/plain": [
       "     [,1]    [,2]   \n",
       "[1,] 460.998 247.900\n",
       "[2,] 314.400 309.306"
      ]
     },
     "metadata": {},
     "output_type": "display_data"
    }
   ],
   "source": [
    "#24\n",
    "#Todas as colunas de várias linhas: MATRIZ[1:2,]   -  todas as células da linha 1 a 3 \n",
    "star_wars_matrix[1:2,]"
   ]
  },
  {
   "cell_type": "markdown",
   "metadata": {},
   "source": [
    "### Dataframe"
   ]
  },
  {
   "cell_type": "code",
   "execution_count": null,
   "metadata": {},
   "outputs": [],
   "source": [
    "### Matrizes só armazenam dados de um tipo (Exemplo: ou numeric ou character)\n",
    "### Como guardar dados lógicos, caracteres e inteiros organizados em colunas e linhas numa só estrutura de dados?\n",
    "### Use um dataframe\n"
   ]
  },
  {
   "cell_type": "code",
   "execution_count": 36,
   "metadata": {},
   "outputs": [
    {
     "data": {
      "text/html": [
       "<table>\n",
       "<thead><tr><th scope=col>Posicao</th><th scope=col>UF</th><th scope=col>Matematica</th><th scope=col>Leitura</th><th scope=col>Ciencias</th><th scope=col>NotaMedia</th></tr></thead>\n",
       "<tbody>\n",
       "\t<tr><td>13      </td><td>Acre    </td><td>377     </td><td>407     </td><td>399     </td><td>394     </td></tr>\n",
       "\t<tr><td>28      </td><td>Alagoas </td><td>339     </td><td>362     </td><td>360     </td><td>354     </td></tr>\n",
       "\t<tr><td>21      </td><td>Amapa   </td><td>354     </td><td>385     </td><td>381     </td><td>373     </td></tr>\n",
       "\t<tr><td>12      </td><td>Amazonas</td><td>378     </td><td>407     </td><td>399     </td><td>395     </td></tr>\n",
       "\t<tr><td>27      </td><td>Bahia   </td><td>343     </td><td>372     </td><td>368     </td><td>361     </td></tr>\n",
       "\t<tr><td> 9      </td><td>Ceará   </td><td>382     </td><td>409     </td><td>401     </td><td>397     </td></tr>\n",
       "</tbody>\n",
       "</table>\n"
      ],
      "text/latex": [
       "\\begin{tabular}{r|llllll}\n",
       " Posicao & UF & Matematica & Leitura & Ciencias & NotaMedia\\\\\n",
       "\\hline\n",
       "\t 13       & Acre     & 377      & 407      & 399      & 394     \\\\\n",
       "\t 28       & Alagoas  & 339      & 362      & 360      & 354     \\\\\n",
       "\t 21       & Amapa    & 354      & 385      & 381      & 373     \\\\\n",
       "\t 12       & Amazonas & 378      & 407      & 399      & 395     \\\\\n",
       "\t 27       & Bahia    & 343      & 372      & 368      & 361     \\\\\n",
       "\t  9       & Ceará    & 382      & 409      & 401      & 397     \\\\\n",
       "\\end{tabular}\n"
      ],
      "text/markdown": [
       "\n",
       "Posicao | UF | Matematica | Leitura | Ciencias | NotaMedia | \n",
       "|---|---|---|---|---|---|\n",
       "| 13       | Acre     | 377      | 407      | 399      | 394      | \n",
       "| 28       | Alagoas  | 339      | 362      | 360      | 354      | \n",
       "| 21       | Amapa    | 354      | 385      | 381      | 373      | \n",
       "| 12       | Amazonas | 378      | 407      | 399      | 395      | \n",
       "| 27       | Bahia    | 343      | 372      | 368      | 361      | \n",
       "|  9       | Ceará    | 382      | 409      | 401      | 397      | \n",
       "\n",
       "\n"
      ],
      "text/plain": [
       "  Posicao UF       Matematica Leitura Ciencias NotaMedia\n",
       "1 13      Acre     377        407     399      394      \n",
       "2 28      Alagoas  339        362     360      354      \n",
       "3 21      Amapa    354        385     381      373      \n",
       "4 12      Amazonas 378        407     399      395      \n",
       "5 27      Bahia    343        372     368      361      \n",
       "6  9      Ceará    382        409     401      397      "
      ]
     },
     "metadata": {},
     "output_type": "display_data"
    }
   ],
   "source": [
    "#25\n",
    "###Ler um arquivo CSV e importar os dados para o R\n",
    "pisa2015 <- read.csv(file=\"../../dados/PISA/pisa2015.csv\", header=TRUE, sep=\";\")\n",
    "\n",
    "#imprimir os primeiros elementos da variável pisa2015\n",
    "head(pisa2015)"
   ]
  },
  {
   "cell_type": "code",
   "execution_count": 17,
   "metadata": {},
   "outputs": [
    {
     "data": {
      "text/html": [
       "'data.frame'"
      ],
      "text/latex": [
       "'data.frame'"
      ],
      "text/markdown": [
       "'data.frame'"
      ],
      "text/plain": [
       "[1] \"data.frame\""
      ]
     },
     "metadata": {},
     "output_type": "display_data"
    }
   ],
   "source": [
    "#26\n",
    "# imprimir a classe da variável pisa2015\n",
    "class(pisa2015)"
   ]
  },
  {
   "cell_type": "code",
   "execution_count": 22,
   "metadata": {},
   "outputs": [
    {
     "data": {
      "text/html": [
       "<table>\n",
       "<thead><tr><th scope=col>name</th><th scope=col>type</th><th scope=col>diameter</th><th scope=col>rotation</th><th scope=col>rings</th></tr></thead>\n",
       "<tbody>\n",
       "\t<tr><td>Mercury           </td><td>Terrestrial planet</td><td> 0.382            </td><td>  58.64           </td><td>FALSE             </td></tr>\n",
       "\t<tr><td>Venus             </td><td>Terrestrial planet</td><td> 0.949            </td><td>-243.02           </td><td>FALSE             </td></tr>\n",
       "\t<tr><td>Earth             </td><td>Terrestrial planet</td><td> 1.000            </td><td>   1.00           </td><td>FALSE             </td></tr>\n",
       "\t<tr><td>Mars              </td><td>Terrestrial planet</td><td> 0.532            </td><td>   1.03           </td><td>FALSE             </td></tr>\n",
       "\t<tr><td>Jupiter           </td><td>Gas giant         </td><td>11.209            </td><td>   0.41           </td><td> TRUE             </td></tr>\n",
       "\t<tr><td>Saturn            </td><td>Gas giant         </td><td> 9.449            </td><td>   0.43           </td><td> TRUE             </td></tr>\n",
       "</tbody>\n",
       "</table>\n"
      ],
      "text/latex": [
       "\\begin{tabular}{r|lllll}\n",
       " name & type & diameter & rotation & rings\\\\\n",
       "\\hline\n",
       "\t Mercury            & Terrestrial planet &  0.382             &   58.64            & FALSE             \\\\\n",
       "\t Venus              & Terrestrial planet &  0.949             & -243.02            & FALSE             \\\\\n",
       "\t Earth              & Terrestrial planet &  1.000             &    1.00            & FALSE             \\\\\n",
       "\t Mars               & Terrestrial planet &  0.532             &    1.03            & FALSE             \\\\\n",
       "\t Jupiter            & Gas giant          & 11.209             &    0.41            &  TRUE             \\\\\n",
       "\t Saturn             & Gas giant          &  9.449             &    0.43            &  TRUE             \\\\\n",
       "\\end{tabular}\n"
      ],
      "text/markdown": [
       "\n",
       "name | type | diameter | rotation | rings | \n",
       "|---|---|---|---|---|---|\n",
       "| Mercury            | Terrestrial planet |  0.382             |   58.64            | FALSE              | \n",
       "| Venus              | Terrestrial planet |  0.949             | -243.02            | FALSE              | \n",
       "| Earth              | Terrestrial planet |  1.000             |    1.00            | FALSE              | \n",
       "| Mars               | Terrestrial planet |  0.532             |    1.03            | FALSE              | \n",
       "| Jupiter            | Gas giant          | 11.209             |    0.41            |  TRUE              | \n",
       "| Saturn             | Gas giant          |  9.449             |    0.43            |  TRUE              | \n",
       "\n",
       "\n"
      ],
      "text/plain": [
       "  name    type               diameter rotation rings\n",
       "1 Mercury Terrestrial planet  0.382     58.64  FALSE\n",
       "2 Venus   Terrestrial planet  0.949   -243.02  FALSE\n",
       "3 Earth   Terrestrial planet  1.000      1.00  FALSE\n",
       "4 Mars    Terrestrial planet  0.532      1.03  FALSE\n",
       "5 Jupiter Gas giant          11.209      0.41   TRUE\n",
       "6 Saturn  Gas giant           9.449      0.43   TRUE"
      ]
     },
     "metadata": {},
     "output_type": "display_data"
    }
   ],
   "source": [
    "#27\n",
    "# crie um dataframe com alguns dados de planetas\n",
    "# Definição dos vetores\n",
    "name <- c(\"Mercury\", \"Venus\", \"Earth\", \"Mars\", \"Jupiter\", \"Saturn\", \"Uranus\", \"Neptune\")\n",
    "type <- c(\"Terrestrial planet\", \"Terrestrial planet\", \"Terrestrial planet\", \n",
    "          \"Terrestrial planet\", \"Gas giant\", \"Gas giant\", \"Gas giant\", \"Gas giant\")\n",
    "diameter <- c(0.382, 0.949, 1, 0.532, 11.209, 9.449, 4.007, 3.883)\n",
    "rotation <- c(58.64, -243.02, 1, 1.03, 0.41, 0.43, -0.72, 0.67)\n",
    "rings <- c(FALSE, FALSE, FALSE, FALSE, TRUE, TRUE, TRUE, TRUE)\n",
    "\n",
    "# Create a data frame from the vectors\n",
    "planets_df <- data.frame(name, type, diameter, rotation, rings)\n",
    "head(planets_df)"
   ]
  },
  {
   "cell_type": "code",
   "execution_count": null,
   "metadata": {},
   "outputs": [],
   "source": [
    "#28\n",
    "# Imprimir o diâmetro de Mercury (linha 1, coluna 3)\n",
    "\n",
    "\n",
    "# Imprimir os dados de Mars (a 4a coluna inteira)\n"
   ]
  },
  {
   "cell_type": "code",
   "execution_count": 23,
   "metadata": {},
   "outputs": [
    {
     "data": {
      "text/html": [
       "<ol class=list-inline>\n",
       "\t<li>0.382</li>\n",
       "\t<li>0.949</li>\n",
       "\t<li>1</li>\n",
       "\t<li>0.532</li>\n",
       "\t<li>11.209</li>\n",
       "</ol>\n"
      ],
      "text/latex": [
       "\\begin{enumerate*}\n",
       "\\item 0.382\n",
       "\\item 0.949\n",
       "\\item 1\n",
       "\\item 0.532\n",
       "\\item 11.209\n",
       "\\end{enumerate*}\n"
      ],
      "text/markdown": [
       "1. 0.382\n",
       "2. 0.949\n",
       "3. 1\n",
       "4. 0.532\n",
       "5. 11.209\n",
       "\n",
       "\n"
      ],
      "text/plain": [
       "[1]  0.382  0.949  1.000  0.532 11.209"
      ]
     },
     "metadata": {},
     "output_type": "display_data"
    }
   ],
   "source": [
    "#29\n",
    "# Selecione os 5 primeiros valores da coluna diameter\n",
    "diametro = planets_df[1:5,\"diameter\"]\n",
    "diametro"
   ]
  },
  {
   "cell_type": "code",
   "execution_count": 24,
   "metadata": {},
   "outputs": [
    {
     "data": {
      "text/html": [
       "<ol class=list-inline>\n",
       "\t<li>FALSE</li>\n",
       "\t<li>FALSE</li>\n",
       "\t<li>FALSE</li>\n",
       "\t<li>FALSE</li>\n",
       "\t<li>TRUE</li>\n",
       "\t<li>TRUE</li>\n",
       "\t<li>TRUE</li>\n",
       "\t<li>TRUE</li>\n",
       "</ol>\n"
      ],
      "text/latex": [
       "\\begin{enumerate*}\n",
       "\\item FALSE\n",
       "\\item FALSE\n",
       "\\item FALSE\n",
       "\\item FALSE\n",
       "\\item TRUE\n",
       "\\item TRUE\n",
       "\\item TRUE\n",
       "\\item TRUE\n",
       "\\end{enumerate*}\n"
      ],
      "text/markdown": [
       "1. FALSE\n",
       "2. FALSE\n",
       "3. FALSE\n",
       "4. FALSE\n",
       "5. TRUE\n",
       "6. TRUE\n",
       "7. TRUE\n",
       "8. TRUE\n",
       "\n",
       "\n"
      ],
      "text/plain": [
       "[1] FALSE FALSE FALSE FALSE  TRUE  TRUE  TRUE  TRUE"
      ]
     },
     "metadata": {},
     "output_type": "display_data"
    }
   ],
   "source": [
    "#30\n",
    "# Selecionar a coluna rings\n",
    "rings_vector <- planets_df$rings\n",
    "  \n",
    "# Imprimir a coluna rings\n",
    "rings_vector"
   ]
  },
  {
   "cell_type": "code",
   "execution_count": null,
   "metadata": {},
   "outputs": [],
   "source": [
    "#31\n",
    "#Selecionar o nome de todos os planetas que tem aneis (rings) por meio da coluna rings do dataframe\n",
    "planets_df[rings_vector, \"name\"] # O R só retorna as linhas especificadas com TRUE (as linhas 5 a 8)\n",
    "\n",
    "#Selecionar todas as colunas dos planetas que têm aneis\n",
    "\n"
   ]
  },
  {
   "cell_type": "code",
   "execution_count": 25,
   "metadata": {},
   "outputs": [
    {
     "data": {
      "text/html": [
       "<ol class=list-inline>\n",
       "\t<li>TRUE</li>\n",
       "\t<li>TRUE</li>\n",
       "\t<li>FALSE</li>\n",
       "\t<li>TRUE</li>\n",
       "\t<li>FALSE</li>\n",
       "\t<li>FALSE</li>\n",
       "\t<li>FALSE</li>\n",
       "\t<li>FALSE</li>\n",
       "</ol>\n"
      ],
      "text/latex": [
       "\\begin{enumerate*}\n",
       "\\item TRUE\n",
       "\\item TRUE\n",
       "\\item FALSE\n",
       "\\item TRUE\n",
       "\\item FALSE\n",
       "\\item FALSE\n",
       "\\item FALSE\n",
       "\\item FALSE\n",
       "\\end{enumerate*}\n"
      ],
      "text/markdown": [
       "1. TRUE\n",
       "2. TRUE\n",
       "3. FALSE\n",
       "4. TRUE\n",
       "5. FALSE\n",
       "6. FALSE\n",
       "7. FALSE\n",
       "8. FALSE\n",
       "\n",
       "\n"
      ],
      "text/plain": [
       "[1]  TRUE  TRUE FALSE  TRUE FALSE FALSE FALSE FALSE"
      ]
     },
     "metadata": {},
     "output_type": "display_data"
    }
   ],
   "source": [
    "#32\n",
    "# Imprimir os diametros menores que 1 (estao na coluna diameter)\n",
    "planets_df$diameter < 1"
   ]
  },
  {
   "cell_type": "code",
   "execution_count": null,
   "metadata": {},
   "outputs": [],
   "source": [
    "#33\n",
    "# Selecionar os planetas com diametro < 1\n"
   ]
  },
  {
   "cell_type": "markdown",
   "metadata": {},
   "source": [
    "### Reordenação de vetores"
   ]
  },
  {
   "cell_type": "code",
   "execution_count": 27,
   "metadata": {},
   "outputs": [
    {
     "data": {
      "text/html": [
       "<ol class=list-inline>\n",
       "\t<li>2</li>\n",
       "\t<li>1</li>\n",
       "\t<li>3</li>\n",
       "</ol>\n"
      ],
      "text/latex": [
       "\\begin{enumerate*}\n",
       "\\item 2\n",
       "\\item 1\n",
       "\\item 3\n",
       "\\end{enumerate*}\n"
      ],
      "text/markdown": [
       "1. 2\n",
       "2. 1\n",
       "3. 3\n",
       "\n",
       "\n"
      ],
      "text/plain": [
       "[1] 2 1 3"
      ]
     },
     "metadata": {},
     "output_type": "display_data"
    }
   ],
   "source": [
    "#34\n",
    "# Construir um vetor a\n",
    "a <- c(100, 10, 1000)\n",
    "\n",
    "# Imprimir a ordem os valores do vetor a\n",
    "order(a)"
   ]
  },
  {
   "cell_type": "code",
   "execution_count": 28,
   "metadata": {},
   "outputs": [
    {
     "data": {
      "text/html": [
       "<ol class=list-inline>\n",
       "\t<li>3</li>\n",
       "\t<li>1</li>\n",
       "\t<li>2</li>\n",
       "</ol>\n"
      ],
      "text/latex": [
       "\\begin{enumerate*}\n",
       "\\item 3\n",
       "\\item 1\n",
       "\\item 2\n",
       "\\end{enumerate*}\n"
      ],
      "text/markdown": [
       "1. 3\n",
       "2. 1\n",
       "3. 2\n",
       "\n",
       "\n"
      ],
      "text/plain": [
       "[1] 3 1 2"
      ]
     },
     "metadata": {},
     "output_type": "display_data"
    }
   ],
   "source": [
    "#35\n",
    "# Imprimir a ordem decrescente dos valores do vetor a\n",
    "order(a, decreasing = TRUE)"
   ]
  },
  {
   "cell_type": "code",
   "execution_count": 29,
   "metadata": {},
   "outputs": [
    {
     "data": {
      "text/html": [
       "<ol class=list-inline>\n",
       "\t<li>10</li>\n",
       "\t<li>100</li>\n",
       "\t<li>1000</li>\n",
       "</ol>\n"
      ],
      "text/latex": [
       "\\begin{enumerate*}\n",
       "\\item 10\n",
       "\\item 100\n",
       "\\item 1000\n",
       "\\end{enumerate*}\n"
      ],
      "text/markdown": [
       "1. 10\n",
       "2. 100\n",
       "3. 1000\n",
       "\n",
       "\n"
      ],
      "text/plain": [
       "[1]   10  100 1000"
      ]
     },
     "metadata": {},
     "output_type": "display_data"
    }
   ],
   "source": [
    "#36\n",
    "# Imprimir os valores do vetor a reordenados\n",
    "a[order(a)]"
   ]
  },
  {
   "cell_type": "code",
   "execution_count": null,
   "metadata": {},
   "outputs": [],
   "source": [
    "#37\n",
    "# Mudar a ordem dos elementos do vetor a de forma que eles fiquem em ordem crescente\n",
    "a <- a[order(a)]\n",
    "\n",
    "# Imprimir o vetor a\n",
    "a"
   ]
  },
  {
   "cell_type": "code",
   "execution_count": null,
   "metadata": {},
   "outputs": [],
   "source": [
    "#38\n",
    "# Imprimir os valores do vetor a reordenados em ordem decrescente\n"
   ]
  },
  {
   "cell_type": "code",
   "execution_count": null,
   "metadata": {},
   "outputs": [],
   "source": [
    "#39\n",
    "# Mudar a ordem dos elementos do vetor a de forma que eles fiquem em ordem decrescente\n",
    "\n",
    "\n",
    "# Imprimir o vetor a\n",
    "a"
   ]
  },
  {
   "cell_type": "code",
   "execution_count": 30,
   "metadata": {},
   "outputs": [
    {
     "data": {
      "text/html": [
       "3.33333333333333"
      ],
      "text/latex": [
       "3.33333333333333"
      ],
      "text/markdown": [
       "3.33333333333333"
      ],
      "text/plain": [
       "[1] 3.333333"
      ]
     },
     "metadata": {},
     "output_type": "display_data"
    },
    {
     "data": {
      "text/html": [
       "3.8815804341359"
      ],
      "text/latex": [
       "3.8815804341359"
      ],
      "text/markdown": [
       "3.8815804341359"
      ],
      "text/plain": [
       "[1] 3.88158"
      ]
     },
     "metadata": {},
     "output_type": "display_data"
    }
   ],
   "source": [
    "#40\n",
    "# Criar um vetor com numeros positivos e negativos\n",
    "v2 = c(1, -2, 6, 0, -1, -10)\n",
    "\n",
    "# Calcular o módulo dos valores do vetor v2\n",
    "v2_abs = abs(v2)\n",
    "\n",
    "# Calcular a média dos valores de v2_abs\n",
    "mean(v2_abs)\n",
    "\n",
    "# Calcular o desvio padrão dos valores de v2_abs (estudaremos na sequencia o significado de desvio padrão)\n",
    "sd(v2_abs)"
   ]
  },
  {
   "cell_type": "code",
   "execution_count": 33,
   "metadata": {},
   "outputs": [
    {
     "data": {
      "text/html": [
       "<ol class=list-inline>\n",
       "\t<li>1</li>\n",
       "\t<li>2</li>\n",
       "\t<li>3</li>\n",
       "\t<li>4</li>\n",
       "\t<li>5</li>\n",
       "\t<li>6</li>\n",
       "\t<li>7</li>\n",
       "\t<li>8</li>\n",
       "\t<li>9</li>\n",
       "\t<li>10</li>\n",
       "</ol>\n"
      ],
      "text/latex": [
       "\\begin{enumerate*}\n",
       "\\item 1\n",
       "\\item 2\n",
       "\\item 3\n",
       "\\item 4\n",
       "\\item 5\n",
       "\\item 6\n",
       "\\item 7\n",
       "\\item 8\n",
       "\\item 9\n",
       "\\item 10\n",
       "\\end{enumerate*}\n"
      ],
      "text/markdown": [
       "1. 1\n",
       "2. 2\n",
       "3. 3\n",
       "4. 4\n",
       "5. 5\n",
       "6. 6\n",
       "7. 7\n",
       "8. 8\n",
       "9. 9\n",
       "10. 10\n",
       "\n",
       "\n"
      ],
      "text/plain": [
       " [1]  1  2  3  4  5  6  7  8  9 10"
      ]
     },
     "metadata": {},
     "output_type": "display_data"
    }
   ],
   "source": [
    "#41\n",
    "# Criar um vetor com números sequenciais\n",
    "numeros <- 1:10\n",
    "numeros"
   ]
  },
  {
   "cell_type": "code",
   "execution_count": 38,
   "metadata": {},
   "outputs": [
    {
     "data": {
      "text/html": [
       "27"
      ],
      "text/latex": [
       "27"
      ],
      "text/markdown": [
       "27"
      ],
      "text/plain": [
       "[1] 27"
      ]
     },
     "metadata": {},
     "output_type": "display_data"
    }
   ],
   "source": [
    "#42\n",
    "# Calcular o numero de linhas do dataframe pisa2015\n",
    "nrow(pisa2015)"
   ]
  },
  {
   "cell_type": "code",
   "execution_count": 117,
   "metadata": {},
   "outputs": [
    {
     "data": {
      "text/html": [
       "<table>\n",
       "<thead><tr><th scope=col>Posicao</th><th scope=col>UF</th><th scope=col>Matematica</th><th scope=col>Leitura</th><th scope=col>Ciencias</th><th scope=col>NotaMedia</th><th scope=col>ordem_alfabetica</th></tr></thead>\n",
       "<tbody>\n",
       "\t<tr><td>13      </td><td>Acre    </td><td>377     </td><td>407     </td><td>399     </td><td>394     </td><td>1       </td></tr>\n",
       "\t<tr><td>28      </td><td>Alagoas </td><td>339     </td><td>362     </td><td>360     </td><td>354     </td><td>2       </td></tr>\n",
       "\t<tr><td>21      </td><td>Amapa   </td><td>354     </td><td>385     </td><td>381     </td><td>373     </td><td>3       </td></tr>\n",
       "\t<tr><td>12      </td><td>Amazonas</td><td>378     </td><td>407     </td><td>399     </td><td>395     </td><td>4       </td></tr>\n",
       "\t<tr><td>27      </td><td>Bahia   </td><td>343     </td><td>372     </td><td>368     </td><td>361     </td><td>5       </td></tr>\n",
       "\t<tr><td> 9      </td><td>Ceará   </td><td>382     </td><td>409     </td><td>401     </td><td>397     </td><td>6       </td></tr>\n",
       "</tbody>\n",
       "</table>\n"
      ],
      "text/latex": [
       "\\begin{tabular}{r|lllllll}\n",
       " Posicao & UF & Matematica & Leitura & Ciencias & NotaMedia & ordem\\_alfabetica\\\\\n",
       "\\hline\n",
       "\t 13       & Acre     & 377      & 407      & 399      & 394      & 1       \\\\\n",
       "\t 28       & Alagoas  & 339      & 362      & 360      & 354      & 2       \\\\\n",
       "\t 21       & Amapa    & 354      & 385      & 381      & 373      & 3       \\\\\n",
       "\t 12       & Amazonas & 378      & 407      & 399      & 395      & 4       \\\\\n",
       "\t 27       & Bahia    & 343      & 372      & 368      & 361      & 5       \\\\\n",
       "\t  9       & Ceará    & 382      & 409      & 401      & 397      & 6       \\\\\n",
       "\\end{tabular}\n"
      ],
      "text/markdown": [
       "\n",
       "Posicao | UF | Matematica | Leitura | Ciencias | NotaMedia | ordem_alfabetica | \n",
       "|---|---|---|---|---|---|\n",
       "| 13       | Acre     | 377      | 407      | 399      | 394      | 1        | \n",
       "| 28       | Alagoas  | 339      | 362      | 360      | 354      | 2        | \n",
       "| 21       | Amapa    | 354      | 385      | 381      | 373      | 3        | \n",
       "| 12       | Amazonas | 378      | 407      | 399      | 395      | 4        | \n",
       "| 27       | Bahia    | 343      | 372      | 368      | 361      | 5        | \n",
       "|  9       | Ceará    | 382      | 409      | 401      | 397      | 6        | \n",
       "\n",
       "\n"
      ],
      "text/plain": [
       "  Posicao UF       Matematica Leitura Ciencias NotaMedia ordem_alfabetica\n",
       "1 13      Acre     377        407     399      394       1               \n",
       "2 28      Alagoas  339        362     360      354       2               \n",
       "3 21      Amapa    354        385     381      373       3               \n",
       "4 12      Amazonas 378        407     399      395       4               \n",
       "5 27      Bahia    343        372     368      361       5               \n",
       "6  9      Ceará    382        409     401      397       6               "
      ]
     },
     "metadata": {},
     "output_type": "display_data"
    }
   ],
   "source": [
    "#43\n",
    "# Ordenar do dataframe pisa2010 de forma a deixar ordenado em ordem alfabética.\n",
    "pisa2015 <- pisa2015[order(pisa2015$UF),]\n",
    "# Imprimir o inicio do dataframe pisa2015.\n",
    "head(pisa2015)\n",
    "\n",
    "# Criar um vetor sequencial e adicioná-lo como uma coluna do dataframe\n",
    "# Esta coluna vai armazenar números que representam a ordem alfabetica por UF\n",
    "pisa2015$ordem_alfabetica <- 1:nrow(pisa2015) # ordem_alfabetica é o nome escolhido para a nova coluna\n",
    "\n"
   ]
  },
  {
   "cell_type": "code",
   "execution_count": 43,
   "metadata": {},
   "outputs": [
    {
     "data": {
      "text/html": [
       "<table>\n",
       "<thead><tr><th></th><th scope=col>Posicao</th><th scope=col>UF</th><th scope=col>Matematica</th><th scope=col>Leitura</th><th scope=col>Ciencias</th><th scope=col>NotaMedia</th><th scope=col>ordem_alfabetica</th></tr></thead>\n",
       "<tbody>\n",
       "\t<tr><th scope=row>8</th><td> 1                 </td><td>Espirito Santo     </td><td>405                </td><td>441                </td><td>435                </td><td>427                </td><td> 8                 </td></tr>\n",
       "\t<tr><th scope=row>16</th><td> 2                 </td><td>Parana             </td><td>406                </td><td>433                </td><td>425                </td><td>421                </td><td>16                 </td></tr>\n",
       "\t<tr><th scope=row>7</th><td> 3                 </td><td>Distrito Federal   </td><td>396                </td><td>430                </td><td>426                </td><td>417                </td><td> 7                 </td></tr>\n",
       "\t<tr><th scope=row>13</th><td> 4                 </td><td>Minas Gerais       </td><td>398                </td><td>431                </td><td>422                </td><td>417                </td><td>13                 </td></tr>\n",
       "\t<tr><th scope=row>24</th><td> 5                 </td><td>Santa Catarina     </td><td>398                </td><td>419                </td><td>418                </td><td>412                </td><td>24                 </td></tr>\n",
       "\t<tr><th scope=row>25</th><td> 6                 </td><td>Sao Paulo          </td><td>386                </td><td>417                </td><td>409                </td><td>404                </td><td>25                 </td></tr>\n",
       "\t<tr><th scope=row>9</th><td> 8                 </td><td>Goias              </td><td>380                </td><td>416                </td><td>409                </td><td>402                </td><td> 9                 </td></tr>\n",
       "\t<tr><th scope=row>21</th><td> 7                 </td><td>Rio Grande do Sul  </td><td>385                </td><td>410                </td><td>411                </td><td>402                </td><td>21                 </td></tr>\n",
       "\t<tr><th scope=row>6</th><td> 9                 </td><td>Ceará              </td><td>382                </td><td>409                </td><td>401                </td><td>397                </td><td> 6                 </td></tr>\n",
       "\t<tr><th scope=row>12</th><td>10                 </td><td>Mato Grosso do Sul </td><td>377                </td><td>411                </td><td>403                </td><td>397                </td><td>12                 </td></tr>\n",
       "\t<tr><th scope=row>4</th><td>12                 </td><td>Amazonas           </td><td>378                </td><td>407                </td><td>399                </td><td>395                </td><td> 4                 </td></tr>\n",
       "\t<tr><th scope=row>1</th><td>13                 </td><td>Acre               </td><td>377                </td><td>407                </td><td>399                </td><td>394                </td><td> 1                 </td></tr>\n",
       "\t<tr><th scope=row>23</th><td>14                 </td><td>Roraima            </td><td>373                </td><td>403                </td><td>398                </td><td>391                </td><td>23                 </td></tr>\n",
       "\t<tr><th scope=row>11</th><td>15                 </td><td>Mato Grosso        </td><td>373                </td><td>402                </td><td>396                </td><td>390                </td><td>11                 </td></tr>\n",
       "\t<tr><th scope=row>19</th><td>16                 </td><td>Rio de Janeiro     </td><td>366                </td><td>400                </td><td>392                </td><td>386                </td><td>19                 </td></tr>\n",
       "\t<tr><th scope=row>14</th><td>17                 </td><td>Para               </td><td>363                </td><td>395                </td><td>386                </td><td>381                </td><td>14                 </td></tr>\n",
       "\t<tr><th scope=row>22</th><td>18                 </td><td>Rondonia           </td><td>364                </td><td>393                </td><td>387                </td><td>381                </td><td>22                 </td></tr>\n",
       "\t<tr><th scope=row>17</th><td>19                 </td><td>Pernambuco         </td><td>360                </td><td>394                </td><td>383                </td><td>379                </td><td>17                 </td></tr>\n",
       "\t<tr><th scope=row>15</th><td>20                 </td><td>Paraiba            </td><td>357                </td><td>385                </td><td>380                </td><td>374                </td><td>15                 </td></tr>\n",
       "\t<tr><th scope=row>3</th><td>21                 </td><td>Amapa              </td><td>354                </td><td>385                </td><td>381                </td><td>373                </td><td> 3                 </td></tr>\n",
       "\t<tr><th scope=row>18</th><td>22                 </td><td>Piaui              </td><td>355                </td><td>381                </td><td>380                </td><td>372                </td><td>18                 </td></tr>\n",
       "\t<tr><th scope=row>20</th><td>23                 </td><td>Rio Grande do Norte</td><td>353                </td><td>384                </td><td>377                </td><td>371                </td><td>20                 </td></tr>\n",
       "\t<tr><th scope=row>26</th><td>24                 </td><td>Sergipe            </td><td>354                </td><td>379                </td><td>375                </td><td>369                </td><td>26                 </td></tr>\n",
       "\t<tr><th scope=row>27</th><td>25                 </td><td>Tocantins          </td><td>350                </td><td>376                </td><td>372                </td><td>366                </td><td>27                 </td></tr>\n",
       "\t<tr><th scope=row>10</th><td>26                 </td><td>Maranhao           </td><td>343                </td><td>377                </td><td>369                </td><td>363                </td><td>10                 </td></tr>\n",
       "\t<tr><th scope=row>5</th><td>27                 </td><td>Bahia              </td><td>343                </td><td>372                </td><td>368                </td><td>361                </td><td> 5                 </td></tr>\n",
       "\t<tr><th scope=row>2</th><td>28                 </td><td>Alagoas            </td><td>339                </td><td>362                </td><td>360                </td><td>354                </td><td> 2                 </td></tr>\n",
       "</tbody>\n",
       "</table>\n"
      ],
      "text/latex": [
       "\\begin{tabular}{r|lllllll}\n",
       "  & Posicao & UF & Matematica & Leitura & Ciencias & NotaMedia & ordem\\_alfabetica\\\\\n",
       "\\hline\n",
       "\t8 &  1                  & Espirito Santo      & 405                 & 441                 & 435                 & 427                 &  8                 \\\\\n",
       "\t16 &  2                  & Parana              & 406                 & 433                 & 425                 & 421                 & 16                 \\\\\n",
       "\t7 &  3                  & Distrito Federal    & 396                 & 430                 & 426                 & 417                 &  7                 \\\\\n",
       "\t13 &  4                  & Minas Gerais        & 398                 & 431                 & 422                 & 417                 & 13                 \\\\\n",
       "\t24 &  5                  & Santa Catarina      & 398                 & 419                 & 418                 & 412                 & 24                 \\\\\n",
       "\t25 &  6                  & Sao Paulo           & 386                 & 417                 & 409                 & 404                 & 25                 \\\\\n",
       "\t9 &  8                  & Goias               & 380                 & 416                 & 409                 & 402                 &  9                 \\\\\n",
       "\t21 &  7                  & Rio Grande do Sul   & 385                 & 410                 & 411                 & 402                 & 21                 \\\\\n",
       "\t6 &  9                  & Ceará               & 382                 & 409                 & 401                 & 397                 &  6                 \\\\\n",
       "\t12 & 10                  & Mato Grosso do Sul  & 377                 & 411                 & 403                 & 397                 & 12                 \\\\\n",
       "\t4 & 12                  & Amazonas            & 378                 & 407                 & 399                 & 395                 &  4                 \\\\\n",
       "\t1 & 13                  & Acre                & 377                 & 407                 & 399                 & 394                 &  1                 \\\\\n",
       "\t23 & 14                  & Roraima             & 373                 & 403                 & 398                 & 391                 & 23                 \\\\\n",
       "\t11 & 15                  & Mato Grosso         & 373                 & 402                 & 396                 & 390                 & 11                 \\\\\n",
       "\t19 & 16                  & Rio de Janeiro      & 366                 & 400                 & 392                 & 386                 & 19                 \\\\\n",
       "\t14 & 17                  & Para                & 363                 & 395                 & 386                 & 381                 & 14                 \\\\\n",
       "\t22 & 18                  & Rondonia            & 364                 & 393                 & 387                 & 381                 & 22                 \\\\\n",
       "\t17 & 19                  & Pernambuco          & 360                 & 394                 & 383                 & 379                 & 17                 \\\\\n",
       "\t15 & 20                  & Paraiba             & 357                 & 385                 & 380                 & 374                 & 15                 \\\\\n",
       "\t3 & 21                  & Amapa               & 354                 & 385                 & 381                 & 373                 &  3                 \\\\\n",
       "\t18 & 22                  & Piaui               & 355                 & 381                 & 380                 & 372                 & 18                 \\\\\n",
       "\t20 & 23                  & Rio Grande do Norte & 353                 & 384                 & 377                 & 371                 & 20                 \\\\\n",
       "\t26 & 24                  & Sergipe             & 354                 & 379                 & 375                 & 369                 & 26                 \\\\\n",
       "\t27 & 25                  & Tocantins           & 350                 & 376                 & 372                 & 366                 & 27                 \\\\\n",
       "\t10 & 26                  & Maranhao            & 343                 & 377                 & 369                 & 363                 & 10                 \\\\\n",
       "\t5 & 27                  & Bahia               & 343                 & 372                 & 368                 & 361                 &  5                 \\\\\n",
       "\t2 & 28                  & Alagoas             & 339                 & 362                 & 360                 & 354                 &  2                 \\\\\n",
       "\\end{tabular}\n"
      ],
      "text/markdown": [
       "\n",
       "| <!--/--> | Posicao | UF | Matematica | Leitura | Ciencias | NotaMedia | ordem_alfabetica | \n",
       "|---|---|---|---|---|---|---|---|---|---|---|---|---|---|---|---|---|---|---|---|---|---|---|---|---|---|---|\n",
       "| 8 |  1                  | Espirito Santo      | 405                 | 441                 | 435                 | 427                 |  8                  | \n",
       "| 16 |  2                  | Parana              | 406                 | 433                 | 425                 | 421                 | 16                  | \n",
       "| 7 |  3                  | Distrito Federal    | 396                 | 430                 | 426                 | 417                 |  7                  | \n",
       "| 13 |  4                  | Minas Gerais        | 398                 | 431                 | 422                 | 417                 | 13                  | \n",
       "| 24 |  5                  | Santa Catarina      | 398                 | 419                 | 418                 | 412                 | 24                  | \n",
       "| 25 |  6                  | Sao Paulo           | 386                 | 417                 | 409                 | 404                 | 25                  | \n",
       "| 9 |  8                  | Goias               | 380                 | 416                 | 409                 | 402                 |  9                  | \n",
       "| 21 |  7                  | Rio Grande do Sul   | 385                 | 410                 | 411                 | 402                 | 21                  | \n",
       "| 6 |  9                  | Ceará               | 382                 | 409                 | 401                 | 397                 |  6                  | \n",
       "| 12 | 10                  | Mato Grosso do Sul  | 377                 | 411                 | 403                 | 397                 | 12                  | \n",
       "| 4 | 12                  | Amazonas            | 378                 | 407                 | 399                 | 395                 |  4                  | \n",
       "| 1 | 13                  | Acre                | 377                 | 407                 | 399                 | 394                 |  1                  | \n",
       "| 23 | 14                  | Roraima             | 373                 | 403                 | 398                 | 391                 | 23                  | \n",
       "| 11 | 15                  | Mato Grosso         | 373                 | 402                 | 396                 | 390                 | 11                  | \n",
       "| 19 | 16                  | Rio de Janeiro      | 366                 | 400                 | 392                 | 386                 | 19                  | \n",
       "| 14 | 17                  | Para                | 363                 | 395                 | 386                 | 381                 | 14                  | \n",
       "| 22 | 18                  | Rondonia            | 364                 | 393                 | 387                 | 381                 | 22                  | \n",
       "| 17 | 19                  | Pernambuco          | 360                 | 394                 | 383                 | 379                 | 17                  | \n",
       "| 15 | 20                  | Paraiba             | 357                 | 385                 | 380                 | 374                 | 15                  | \n",
       "| 3 | 21                  | Amapa               | 354                 | 385                 | 381                 | 373                 |  3                  | \n",
       "| 18 | 22                  | Piaui               | 355                 | 381                 | 380                 | 372                 | 18                  | \n",
       "| 20 | 23                  | Rio Grande do Norte | 353                 | 384                 | 377                 | 371                 | 20                  | \n",
       "| 26 | 24                  | Sergipe             | 354                 | 379                 | 375                 | 369                 | 26                  | \n",
       "| 27 | 25                  | Tocantins           | 350                 | 376                 | 372                 | 366                 | 27                  | \n",
       "| 10 | 26                  | Maranhao            | 343                 | 377                 | 369                 | 363                 | 10                  | \n",
       "| 5 | 27                  | Bahia               | 343                 | 372                 | 368                 | 361                 |  5                  | \n",
       "| 2 | 28                  | Alagoas             | 339                 | 362                 | 360                 | 354                 |  2                  | \n",
       "\n",
       "\n"
      ],
      "text/plain": [
       "   Posicao UF                  Matematica Leitura Ciencias NotaMedia\n",
       "8   1      Espirito Santo      405        441     435      427      \n",
       "16  2      Parana              406        433     425      421      \n",
       "7   3      Distrito Federal    396        430     426      417      \n",
       "13  4      Minas Gerais        398        431     422      417      \n",
       "24  5      Santa Catarina      398        419     418      412      \n",
       "25  6      Sao Paulo           386        417     409      404      \n",
       "9   8      Goias               380        416     409      402      \n",
       "21  7      Rio Grande do Sul   385        410     411      402      \n",
       "6   9      Ceará               382        409     401      397      \n",
       "12 10      Mato Grosso do Sul  377        411     403      397      \n",
       "4  12      Amazonas            378        407     399      395      \n",
       "1  13      Acre                377        407     399      394      \n",
       "23 14      Roraima             373        403     398      391      \n",
       "11 15      Mato Grosso         373        402     396      390      \n",
       "19 16      Rio de Janeiro      366        400     392      386      \n",
       "14 17      Para                363        395     386      381      \n",
       "22 18      Rondonia            364        393     387      381      \n",
       "17 19      Pernambuco          360        394     383      379      \n",
       "15 20      Paraiba             357        385     380      374      \n",
       "3  21      Amapa               354        385     381      373      \n",
       "18 22      Piaui               355        381     380      372      \n",
       "20 23      Rio Grande do Norte 353        384     377      371      \n",
       "26 24      Sergipe             354        379     375      369      \n",
       "27 25      Tocantins           350        376     372      366      \n",
       "10 26      Maranhao            343        377     369      363      \n",
       "5  27      Bahia               343        372     368      361      \n",
       "2  28      Alagoas             339        362     360      354      \n",
       "   ordem_alfabetica\n",
       "8   8              \n",
       "16 16              \n",
       "7   7              \n",
       "13 13              \n",
       "24 24              \n",
       "25 25              \n",
       "9   9              \n",
       "21 21              \n",
       "6   6              \n",
       "12 12              \n",
       "4   4              \n",
       "1   1              \n",
       "23 23              \n",
       "11 11              \n",
       "19 19              \n",
       "14 14              \n",
       "22 22              \n",
       "17 17              \n",
       "15 15              \n",
       "3   3              \n",
       "18 18              \n",
       "20 20              \n",
       "26 26              \n",
       "27 27              \n",
       "10 10              \n",
       "5   5              \n",
       "2   2              "
      ]
     },
     "metadata": {},
     "output_type": "display_data"
    }
   ],
   "source": [
    "#44\n",
    "# Reordenar o dataframe pisa2015 por ordem decrescente de NotaMedia\n",
    "pisa2015 <- pisa2015[order(pisa2015$NotaMedia, decreasing = TRUE),]\n",
    "pisa2015\n"
   ]
  },
  {
   "cell_type": "code",
   "execution_count": null,
   "metadata": {},
   "outputs": [],
   "source": [
    "#45\n",
    "# Criar um vetor sequencial e adicioná-lo como uma coluna do dataframe\n",
    "# Esta coluna vai armazenar números que representam a ordem decrescente de NotaMedia\n",
    "pisa2015$ordem_notamedia <- \n"
   ]
  }
 ],
 "metadata": {
  "kernelspec": {
   "display_name": "R",
   "language": "R",
   "name": "ir"
  },
  "language_info": {
   "codemirror_mode": "r",
   "file_extension": ".r",
   "mimetype": "text/x-r-source",
   "name": "R",
   "pygments_lexer": "r",
   "version": "3.5.1"
  }
 },
 "nbformat": 4,
 "nbformat_minor": 2
}
