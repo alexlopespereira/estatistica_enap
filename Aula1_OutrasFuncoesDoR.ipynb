{
 "cells": [
  {
   "cell_type": "markdown",
   "metadata": {},
   "source": [
    "## Conceitos básicos do R"
   ]
  },
  {
   "cell_type": "code",
   "execution_count": 1,
   "metadata": {},
   "outputs": [
    {
     "name": "stderr",
     "output_type": "stream",
     "text": [
      "\n",
      "Attaching package: ‘dplyr’\n",
      "\n",
      "The following objects are masked from ‘package:stats’:\n",
      "\n",
      "    filter, lag\n",
      "\n",
      "The following objects are masked from ‘package:base’:\n",
      "\n",
      "    intersect, setdiff, setequal, union\n",
      "\n"
     ]
    }
   ],
   "source": [
    "#47\n",
    "# Carregar a biblioteca dplyr\n",
    "library(dplyr)\n",
    "setwd('~/curso')"
   ]
  },
  {
   "cell_type": "code",
   "execution_count": 2,
   "metadata": {},
   "outputs": [
    {
     "data": {
      "text/html": [
       "<table>\n",
       "<thead><tr><th scope=col>Ano</th><th scope=col>COD_UF</th><th scope=col>UF</th><th scope=col>COD_IBGE</th><th scope=col>Nome.do.Município</th><th scope=col>Região.Metropolitana</th><th scope=col>Código.da.Mesorregião</th><th scope=col>Nome.da.Mesorregião</th><th scope=col>Código.da.Microrregião</th><th scope=col>Nome.da.Microrregião</th><th scope=col>⋯</th><th scope=col>Valor.adicionado.bruto.dos.Serviços..a.preços.correntes...exclusive.Administração..defesa..educação.e.saúde.públicas.e.seguridade.social..R..1.000.</th><th scope=col>Valor.adicionado.bruto.da.Administração..defesa..educação.e.saúde.públicas.e.seguridade.social..R..1.000.</th><th scope=col>Valor.adicionado.bruto.total..a.preços.correntes..R..1.000.</th><th scope=col>Impostos..líquidos.de.subsídios..sobre.produtos..a.preços.correntes..R..1.000.</th><th scope=col>PIB</th><th scope=col>Populacao</th><th scope=col>PIB_Percapita</th><th scope=col>Atividade.com.maior.valor.adicionado.bruto</th><th scope=col>Atividade.com.segundo.maior.valor.adicionado.bruto</th><th scope=col>Atividade.com.terceiro.maior.valor.adicionado.bruto</th></tr></thead>\n",
       "<tbody>\n",
       "\t<tr><td>2010                                                                </td><td>11                                                                  </td><td>Rondônia                                                            </td><td>1100015                                                             </td><td>Alta Floresta D'Oeste                                               </td><td>                                                                    </td><td>1102                                                                </td><td>Leste Rondoniense                                                   </td><td>11006                                                               </td><td>Cacoal                                                              </td><td>⋯                                                                   </td><td> 62.496                                                             </td><td> 93.245                                                             </td><td> 241.120                                                            </td><td> 20.957                                                             </td><td> 262.077                                                            </td><td> 24.422                                                             </td><td> 10.731,18                                                          </td><td>Administração, defesa, educação e saúde públicas e seguridade social</td><td>Pecuária, inclusive apoio à pecuária                                </td><td>Demais serviços                                                     </td></tr>\n",
       "\t<tr><td>2010                                                                </td><td>11                                                                  </td><td>Rondônia                                                            </td><td>1100023                                                             </td><td>Ariquemes                                                           </td><td>                                                                    </td><td>1102                                                                </td><td>Leste Rondoniense                                                   </td><td>11003                                                               </td><td>Ariquemes                                                           </td><td>⋯                                                                   </td><td> 494.946                                                            </td><td> 343.868                                                            </td><td> 1.199.664                                                          </td><td> 165.030                                                            </td><td> 1.364.694                                                          </td><td> 90.354                                                             </td><td> 15.103,86                                                          </td><td>Administração, defesa, educação e saúde públicas e seguridade social</td><td>Demais serviços                                                     </td><td>Comércio e reparação de veículos automotores e motocicletas         </td></tr>\n",
       "\t<tr><td>2010                                                                </td><td>11                                                                  </td><td>Rondônia                                                            </td><td>1100031                                                             </td><td>Cabixi                                                              </td><td>                                                                    </td><td>1102                                                                </td><td>Leste Rondoniense                                                   </td><td>11008                                                               </td><td>Colorado do Oeste                                                   </td><td>⋯                                                                   </td><td> 12.677                                                             </td><td> 25.170                                                             </td><td> 65.401                                                             </td><td> 4.210                                                              </td><td> 69.611                                                             </td><td> 6.309                                                              </td><td> 11.033,62                                                          </td><td>Administração, defesa, educação e saúde públicas e seguridade social</td><td>Pecuária, inclusive apoio à pecuária                                </td><td>Demais serviços                                                     </td></tr>\n",
       "\t<tr><td>2010                                                                </td><td>11                                                                  </td><td>Rondônia                                                            </td><td>1100049                                                             </td><td>Cacoal                                                              </td><td>                                                                    </td><td>1102                                                                </td><td>Leste Rondoniense                                                   </td><td>11006                                                               </td><td>Cacoal                                                              </td><td>⋯                                                                   </td><td> 465.447                                                            </td><td> 298.454                                                            </td><td> 1.041.212                                                          </td><td> 145.282                                                            </td><td> 1.186.494                                                          </td><td> 78.601                                                             </td><td> 15.095,15                                                          </td><td>Administração, defesa, educação e saúde públicas e seguridade social</td><td>Demais serviços                                                     </td><td>Comércio e reparação de veículos automotores e motocicletas         </td></tr>\n",
       "\t<tr><td>2010                                                                </td><td>11                                                                  </td><td>Rondônia                                                            </td><td>1100056                                                             </td><td>Cerejeiras                                                          </td><td>                                                                    </td><td>1102                                                                </td><td>Leste Rondoniense                                                   </td><td>11008                                                               </td><td>Colorado do Oeste                                                   </td><td>⋯                                                                   </td><td> 80.725                                                             </td><td> 63.018                                                             </td><td> 192.454                                                            </td><td> 29.567                                                             </td><td> 222.021                                                            </td><td> 17.030                                                             </td><td> 13.037,06                                                          </td><td>Administração, defesa, educação e saúde públicas e seguridade social</td><td>Demais serviços                                                     </td><td>Comércio e reparação de veículos automotores e motocicletas         </td></tr>\n",
       "\t<tr><td>2010                                                                </td><td>11                                                                  </td><td>Rondônia                                                            </td><td>1100064                                                             </td><td>Colorado do Oeste                                                   </td><td>                                                                    </td><td>1102                                                                </td><td>Leste Rondoniense                                                   </td><td>11008                                                               </td><td>Colorado do Oeste                                                   </td><td>⋯                                                                   </td><td> 54.678                                                             </td><td> 67.462                                                             </td><td> 176.264                                                            </td><td> 16.829                                                             </td><td> 193.093                                                            </td><td> 18.602                                                             </td><td> 10.380,21                                                          </td><td>Administração, defesa, educação e saúde públicas e seguridade social</td><td>Demais serviços                                                     </td><td>Pecuária, inclusive apoio à pecuária                                </td></tr>\n",
       "</tbody>\n",
       "</table>\n"
      ],
      "text/latex": [
       "\\begin{tabular}{r|llllllllllllllllllllll}\n",
       " Ano & COD\\_UF & UF & COD\\_IBGE & Nome.do.Município & Região.Metropolitana & Código.da.Mesorregião & Nome.da.Mesorregião & Código.da.Microrregião & Nome.da.Microrregião & ⋯ & Valor.adicionado.bruto.dos.Serviços..a.preços.correntes...exclusive.Administração..defesa..educação.e.saúde.públicas.e.seguridade.social..R..1.000. & Valor.adicionado.bruto.da.Administração..defesa..educação.e.saúde.públicas.e.seguridade.social..R..1.000. & Valor.adicionado.bruto.total..a.preços.correntes..R..1.000. & Impostos..líquidos.de.subsídios..sobre.produtos..a.preços.correntes..R..1.000. & PIB & Populacao & PIB\\_Percapita & Atividade.com.maior.valor.adicionado.bruto & Atividade.com.segundo.maior.valor.adicionado.bruto & Atividade.com.terceiro.maior.valor.adicionado.bruto\\\\\n",
       "\\hline\n",
       "\t 2010                                                                 & 11                                                                   & Rondônia                                                             & 1100015                                                              & Alta Floresta D'Oeste                                                &                                                                      & 1102                                                                 & Leste Rondoniense                                                    & 11006                                                                & Cacoal                                                               & ⋯                                                                    &  62.496                                                              &  93.245                                                              &  241.120                                                             &  20.957                                                              &  262.077                                                             &  24.422                                                              &  10.731,18                                                           & Administração, defesa, educação e saúde públicas e seguridade social & Pecuária, inclusive apoio à pecuária                                 & Demais serviços                                                     \\\\\n",
       "\t 2010                                                                 & 11                                                                   & Rondônia                                                             & 1100023                                                              & Ariquemes                                                            &                                                                      & 1102                                                                 & Leste Rondoniense                                                    & 11003                                                                & Ariquemes                                                            & ⋯                                                                    &  494.946                                                             &  343.868                                                             &  1.199.664                                                           &  165.030                                                             &  1.364.694                                                           &  90.354                                                              &  15.103,86                                                           & Administração, defesa, educação e saúde públicas e seguridade social & Demais serviços                                                      & Comércio e reparação de veículos automotores e motocicletas         \\\\\n",
       "\t 2010                                                                 & 11                                                                   & Rondônia                                                             & 1100031                                                              & Cabixi                                                               &                                                                      & 1102                                                                 & Leste Rondoniense                                                    & 11008                                                                & Colorado do Oeste                                                    & ⋯                                                                    &  12.677                                                              &  25.170                                                              &  65.401                                                              &  4.210                                                               &  69.611                                                              &  6.309                                                               &  11.033,62                                                           & Administração, defesa, educação e saúde públicas e seguridade social & Pecuária, inclusive apoio à pecuária                                 & Demais serviços                                                     \\\\\n",
       "\t 2010                                                                 & 11                                                                   & Rondônia                                                             & 1100049                                                              & Cacoal                                                               &                                                                      & 1102                                                                 & Leste Rondoniense                                                    & 11006                                                                & Cacoal                                                               & ⋯                                                                    &  465.447                                                             &  298.454                                                             &  1.041.212                                                           &  145.282                                                             &  1.186.494                                                           &  78.601                                                              &  15.095,15                                                           & Administração, defesa, educação e saúde públicas e seguridade social & Demais serviços                                                      & Comércio e reparação de veículos automotores e motocicletas         \\\\\n",
       "\t 2010                                                                 & 11                                                                   & Rondônia                                                             & 1100056                                                              & Cerejeiras                                                           &                                                                      & 1102                                                                 & Leste Rondoniense                                                    & 11008                                                                & Colorado do Oeste                                                    & ⋯                                                                    &  80.725                                                              &  63.018                                                              &  192.454                                                             &  29.567                                                              &  222.021                                                             &  17.030                                                              &  13.037,06                                                           & Administração, defesa, educação e saúde públicas e seguridade social & Demais serviços                                                      & Comércio e reparação de veículos automotores e motocicletas         \\\\\n",
       "\t 2010                                                                 & 11                                                                   & Rondônia                                                             & 1100064                                                              & Colorado do Oeste                                                    &                                                                      & 1102                                                                 & Leste Rondoniense                                                    & 11008                                                                & Colorado do Oeste                                                    & ⋯                                                                    &  54.678                                                              &  67.462                                                              &  176.264                                                             &  16.829                                                              &  193.093                                                             &  18.602                                                              &  10.380,21                                                           & Administração, defesa, educação e saúde públicas e seguridade social & Demais serviços                                                      & Pecuária, inclusive apoio à pecuária                                \\\\\n",
       "\\end{tabular}\n"
      ],
      "text/markdown": [
       "\n",
       "Ano | COD_UF | UF | COD_IBGE | Nome.do.Município | Região.Metropolitana | Código.da.Mesorregião | Nome.da.Mesorregião | Código.da.Microrregião | Nome.da.Microrregião | ⋯ | Valor.adicionado.bruto.dos.Serviços..a.preços.correntes...exclusive.Administração..defesa..educação.e.saúde.públicas.e.seguridade.social..R..1.000. | Valor.adicionado.bruto.da.Administração..defesa..educação.e.saúde.públicas.e.seguridade.social..R..1.000. | Valor.adicionado.bruto.total..a.preços.correntes..R..1.000. | Impostos..líquidos.de.subsídios..sobre.produtos..a.preços.correntes..R..1.000. | PIB | Populacao | PIB_Percapita | Atividade.com.maior.valor.adicionado.bruto | Atividade.com.segundo.maior.valor.adicionado.bruto | Atividade.com.terceiro.maior.valor.adicionado.bruto | \n",
       "|---|---|---|---|---|---|\n",
       "| 2010                                                                 | 11                                                                   | Rondônia                                                             | 1100015                                                              | Alta Floresta D'Oeste                                                |                                                                      | 1102                                                                 | Leste Rondoniense                                                    | 11006                                                                | Cacoal                                                               | ⋯                                                                    |  62.496                                                              |  93.245                                                              |  241.120                                                             |  20.957                                                              |  262.077                                                             |  24.422                                                              |  10.731,18                                                           | Administração, defesa, educação e saúde públicas e seguridade social | Pecuária, inclusive apoio à pecuária                                 | Demais serviços                                                      | \n",
       "| 2010                                                                 | 11                                                                   | Rondônia                                                             | 1100023                                                              | Ariquemes                                                            |                                                                      | 1102                                                                 | Leste Rondoniense                                                    | 11003                                                                | Ariquemes                                                            | ⋯                                                                    |  494.946                                                             |  343.868                                                             |  1.199.664                                                           |  165.030                                                             |  1.364.694                                                           |  90.354                                                              |  15.103,86                                                           | Administração, defesa, educação e saúde públicas e seguridade social | Demais serviços                                                      | Comércio e reparação de veículos automotores e motocicletas          | \n",
       "| 2010                                                                 | 11                                                                   | Rondônia                                                             | 1100031                                                              | Cabixi                                                               |                                                                      | 1102                                                                 | Leste Rondoniense                                                    | 11008                                                                | Colorado do Oeste                                                    | ⋯                                                                    |  12.677                                                              |  25.170                                                              |  65.401                                                              |  4.210                                                               |  69.611                                                              |  6.309                                                               |  11.033,62                                                           | Administração, defesa, educação e saúde públicas e seguridade social | Pecuária, inclusive apoio à pecuária                                 | Demais serviços                                                      | \n",
       "| 2010                                                                 | 11                                                                   | Rondônia                                                             | 1100049                                                              | Cacoal                                                               |                                                                      | 1102                                                                 | Leste Rondoniense                                                    | 11006                                                                | Cacoal                                                               | ⋯                                                                    |  465.447                                                             |  298.454                                                             |  1.041.212                                                           |  145.282                                                             |  1.186.494                                                           |  78.601                                                              |  15.095,15                                                           | Administração, defesa, educação e saúde públicas e seguridade social | Demais serviços                                                      | Comércio e reparação de veículos automotores e motocicletas          | \n",
       "| 2010                                                                 | 11                                                                   | Rondônia                                                             | 1100056                                                              | Cerejeiras                                                           |                                                                      | 1102                                                                 | Leste Rondoniense                                                    | 11008                                                                | Colorado do Oeste                                                    | ⋯                                                                    |  80.725                                                              |  63.018                                                              |  192.454                                                             |  29.567                                                              |  222.021                                                             |  17.030                                                              |  13.037,06                                                           | Administração, defesa, educação e saúde públicas e seguridade social | Demais serviços                                                      | Comércio e reparação de veículos automotores e motocicletas          | \n",
       "| 2010                                                                 | 11                                                                   | Rondônia                                                             | 1100064                                                              | Colorado do Oeste                                                    |                                                                      | 1102                                                                 | Leste Rondoniense                                                    | 11008                                                                | Colorado do Oeste                                                    | ⋯                                                                    |  54.678                                                              |  67.462                                                              |  176.264                                                             |  16.829                                                              |  193.093                                                             |  18.602                                                              |  10.380,21                                                           | Administração, defesa, educação e saúde públicas e seguridade social | Demais serviços                                                      | Pecuária, inclusive apoio à pecuária                                 | \n",
       "\n",
       "\n"
      ],
      "text/plain": [
       "  Ano  COD_UF UF       COD_IBGE Nome.do.Município     Região.Metropolitana\n",
       "1 2010 11     Rondônia 1100015  Alta Floresta D'Oeste                     \n",
       "2 2010 11     Rondônia 1100023  Ariquemes                                 \n",
       "3 2010 11     Rondônia 1100031  Cabixi                                    \n",
       "4 2010 11     Rondônia 1100049  Cacoal                                    \n",
       "5 2010 11     Rondônia 1100056  Cerejeiras                                \n",
       "6 2010 11     Rondônia 1100064  Colorado do Oeste                         \n",
       "  Código.da.Mesorregião Nome.da.Mesorregião Código.da.Microrregião\n",
       "1 1102                  Leste Rondoniense   11006                 \n",
       "2 1102                  Leste Rondoniense   11003                 \n",
       "3 1102                  Leste Rondoniense   11008                 \n",
       "4 1102                  Leste Rondoniense   11006                 \n",
       "5 1102                  Leste Rondoniense   11008                 \n",
       "6 1102                  Leste Rondoniense   11008                 \n",
       "  Nome.da.Microrregião ⋯\n",
       "1 Cacoal               ⋯\n",
       "2 Ariquemes            ⋯\n",
       "3 Colorado do Oeste    ⋯\n",
       "4 Cacoal               ⋯\n",
       "5 Colorado do Oeste    ⋯\n",
       "6 Colorado do Oeste    ⋯\n",
       "  Valor.adicionado.bruto.dos.Serviços..a.preços.correntes...exclusive.Administração..defesa..educação.e.saúde.públicas.e.seguridade.social..R..1.000.\n",
       "1  62.496                                                                                                                                            \n",
       "2  494.946                                                                                                                                           \n",
       "3  12.677                                                                                                                                            \n",
       "4  465.447                                                                                                                                           \n",
       "5  80.725                                                                                                                                            \n",
       "6  54.678                                                                                                                                            \n",
       "  Valor.adicionado.bruto.da.Administração..defesa..educação.e.saúde.públicas.e.seguridade.social..R..1.000.\n",
       "1  93.245                                                                                                  \n",
       "2  343.868                                                                                                 \n",
       "3  25.170                                                                                                  \n",
       "4  298.454                                                                                                 \n",
       "5  63.018                                                                                                  \n",
       "6  67.462                                                                                                  \n",
       "  Valor.adicionado.bruto.total..a.preços.correntes..R..1.000.\n",
       "1  241.120                                                   \n",
       "2  1.199.664                                                 \n",
       "3  65.401                                                    \n",
       "4  1.041.212                                                 \n",
       "5  192.454                                                   \n",
       "6  176.264                                                   \n",
       "  Impostos..líquidos.de.subsídios..sobre.produtos..a.preços.correntes..R..1.000.\n",
       "1  20.957                                                                       \n",
       "2  165.030                                                                      \n",
       "3  4.210                                                                        \n",
       "4  145.282                                                                      \n",
       "5  29.567                                                                       \n",
       "6  16.829                                                                       \n",
       "  PIB         Populacao PIB_Percapita\n",
       "1  262.077     24.422    10.731,18   \n",
       "2  1.364.694   90.354    15.103,86   \n",
       "3  69.611      6.309     11.033,62   \n",
       "4  1.186.494   78.601    15.095,15   \n",
       "5  222.021     17.030    13.037,06   \n",
       "6  193.093     18.602    10.380,21   \n",
       "  Atividade.com.maior.valor.adicionado.bruto                          \n",
       "1 Administração, defesa, educação e saúde públicas e seguridade social\n",
       "2 Administração, defesa, educação e saúde públicas e seguridade social\n",
       "3 Administração, defesa, educação e saúde públicas e seguridade social\n",
       "4 Administração, defesa, educação e saúde públicas e seguridade social\n",
       "5 Administração, defesa, educação e saúde públicas e seguridade social\n",
       "6 Administração, defesa, educação e saúde públicas e seguridade social\n",
       "  Atividade.com.segundo.maior.valor.adicionado.bruto\n",
       "1 Pecuária, inclusive apoio à pecuária              \n",
       "2 Demais serviços                                   \n",
       "3 Pecuária, inclusive apoio à pecuária              \n",
       "4 Demais serviços                                   \n",
       "5 Demais serviços                                   \n",
       "6 Demais serviços                                   \n",
       "  Atividade.com.terceiro.maior.valor.adicionado.bruto        \n",
       "1 Demais serviços                                            \n",
       "2 Comércio e reparação de veículos automotores e motocicletas\n",
       "3 Demais serviços                                            \n",
       "4 Comércio e reparação de veículos automotores e motocicletas\n",
       "5 Comércio e reparação de veículos automotores e motocicletas\n",
       "6 Pecuária, inclusive apoio à pecuária                       "
      ]
     },
     "metadata": {},
     "output_type": "display_data"
    }
   ],
   "source": [
    "#50\n",
    "# Importar um arquivo com informações do PIB\n",
    "pib <- read.csv(file=\"./dados/PIB/PIB_2010-2015.csv\", header=TRUE, sep=\",\", stringsAsFactors=FALSE)\n",
    "head(pib)"
   ]
  },
  {
   "cell_type": "markdown",
   "metadata": {},
   "source": [
    "### Operações com a biblioteca dplyr"
   ]
  },
  {
   "cell_type": "code",
   "execution_count": null,
   "metadata": {},
   "outputs": [],
   "source": [
    "# verbos do dplyr     Descrição\n",
    "# select()            seleciona colunas **\n",
    "# filter()            filtra linhas **\n",
    "# arrange()           reordena ou rearranja linhas\n",
    "# mutate()            cria novas colunas\n",
    "# summarise()         sumariza valores **\n",
    "# group_by()          possibilita realizar operações em grupos de linhas (categorias) **\n",
    "\n",
    "# Estudaremos as funções marcadas com **"
   ]
  },
  {
   "cell_type": "markdown",
   "metadata": {},
   "source": [
    "#### Operação de seleção de colunas (select)"
   ]
  },
  {
   "cell_type": "code",
   "execution_count": 4,
   "metadata": {},
   "outputs": [
    {
     "data": {
      "text/html": [
       "<table>\n",
       "<thead><tr><th scope=col>UF</th><th scope=col>PIB</th></tr></thead>\n",
       "<tbody>\n",
       "\t<tr><td>Rondônia   </td><td> 262.077   </td></tr>\n",
       "\t<tr><td>Rondônia   </td><td> 1.364.694 </td></tr>\n",
       "\t<tr><td>Rondônia   </td><td> 69.611    </td></tr>\n",
       "\t<tr><td>Rondônia   </td><td> 1.186.494 </td></tr>\n",
       "\t<tr><td>Rondônia   </td><td> 222.021   </td></tr>\n",
       "\t<tr><td>Rondônia   </td><td> 193.093   </td></tr>\n",
       "</tbody>\n",
       "</table>\n"
      ],
      "text/latex": [
       "\\begin{tabular}{r|ll}\n",
       " UF & PIB\\\\\n",
       "\\hline\n",
       "\t Rondônia    &  262.077   \\\\\n",
       "\t Rondônia    &  1.364.694 \\\\\n",
       "\t Rondônia    &  69.611    \\\\\n",
       "\t Rondônia    &  1.186.494 \\\\\n",
       "\t Rondônia    &  222.021   \\\\\n",
       "\t Rondônia    &  193.093   \\\\\n",
       "\\end{tabular}\n"
      ],
      "text/markdown": [
       "\n",
       "UF | PIB | \n",
       "|---|---|---|---|---|---|\n",
       "| Rondônia    |  262.077    | \n",
       "| Rondônia    |  1.364.694  | \n",
       "| Rondônia    |  69.611     | \n",
       "| Rondônia    |  1.186.494  | \n",
       "| Rondônia    |  222.021    | \n",
       "| Rondônia    |  193.093    | \n",
       "\n",
       "\n"
      ],
      "text/plain": [
       "  UF       PIB        \n",
       "1 Rondônia  262.077   \n",
       "2 Rondônia  1.364.694 \n",
       "3 Rondônia  69.611    \n",
       "4 Rondônia  1.186.494 \n",
       "5 Rondônia  222.021   \n",
       "6 Rondônia  193.093   "
      ]
     },
     "metadata": {},
     "output_type": "display_data"
    }
   ],
   "source": [
    "#48\n",
    "# Considerando que o dataframe pib está carregado na memória, selecionar as colunas UF e PIB\n",
    "UF_PIB <- select(pib, UF, PIB) ## Seleciona as colunas UF e Matematica do dataframe pisa2015\n",
    "head(UF_PIB)"
   ]
  },
  {
   "cell_type": "code",
   "execution_count": 6,
   "metadata": {},
   "outputs": [
    {
     "data": {
      "text/html": [
       "<table>\n",
       "<thead><tr><th scope=col>UF</th><th scope=col>PIB</th></tr></thead>\n",
       "<tbody>\n",
       "\t<tr><td>Rondônia   </td><td> 262.077   </td></tr>\n",
       "\t<tr><td>Rondônia   </td><td> 1.364.694 </td></tr>\n",
       "\t<tr><td>Rondônia   </td><td> 69.611    </td></tr>\n",
       "\t<tr><td>Rondônia   </td><td> 1.186.494 </td></tr>\n",
       "\t<tr><td>Rondônia   </td><td> 222.021   </td></tr>\n",
       "\t<tr><td>Rondônia   </td><td> 193.093   </td></tr>\n",
       "</tbody>\n",
       "</table>\n"
      ],
      "text/latex": [
       "\\begin{tabular}{r|ll}\n",
       " UF & PIB\\\\\n",
       "\\hline\n",
       "\t Rondônia    &  262.077   \\\\\n",
       "\t Rondônia    &  1.364.694 \\\\\n",
       "\t Rondônia    &  69.611    \\\\\n",
       "\t Rondônia    &  1.186.494 \\\\\n",
       "\t Rondônia    &  222.021   \\\\\n",
       "\t Rondônia    &  193.093   \\\\\n",
       "\\end{tabular}\n"
      ],
      "text/markdown": [
       "\n",
       "UF | PIB | \n",
       "|---|---|---|---|---|---|\n",
       "| Rondônia    |  262.077    | \n",
       "| Rondônia    |  1.364.694  | \n",
       "| Rondônia    |  69.611     | \n",
       "| Rondônia    |  1.186.494  | \n",
       "| Rondônia    |  222.021    | \n",
       "| Rondônia    |  193.093    | \n",
       "\n",
       "\n"
      ],
      "text/plain": [
       "  UF       PIB        \n",
       "1 Rondônia  262.077   \n",
       "2 Rondônia  1.364.694 \n",
       "3 Rondônia  69.611    \n",
       "4 Rondônia  1.186.494 \n",
       "5 Rondônia  222.021   \n",
       "6 Rondônia  193.093   "
      ]
     },
     "metadata": {},
     "output_type": "display_data"
    }
   ],
   "source": [
    "#49\n",
    "# Usar o operador de redirecionamento %>% para repetir o mesmo resultado da operação acima\n",
    "pib %>% \n",
    "    select(UF, PIB) %>%  ## Seleciona as colunas UF e Matematica e redireciona o resultado\n",
    "    head    ## Imprime as primeiras linhas"
   ]
  },
  {
   "cell_type": "markdown",
   "metadata": {},
   "source": [
    "#### Operação de filtro de linhas (filter)"
   ]
  },
  {
   "cell_type": "code",
   "execution_count": 23,
   "metadata": {},
   "outputs": [
    {
     "data": {
      "text/html": [
       "<table>\n",
       "<thead><tr><th scope=col>Ano</th><th scope=col>COD_UF</th><th scope=col>UF</th><th scope=col>COD_IBGE</th><th scope=col>Nome.do.Município</th><th scope=col>Região.Metropolitana</th><th scope=col>Código.da.Mesorregião</th><th scope=col>Nome.da.Mesorregião</th><th scope=col>Código.da.Microrregião</th><th scope=col>Nome.da.Microrregião</th><th scope=col>⋯</th><th scope=col>Valor.adicionado.bruto.dos.Serviços..a.preços.correntes...exclusive.Administração..defesa..educação.e.saúde.públicas.e.seguridade.social..R..1.000.</th><th scope=col>Valor.adicionado.bruto.da.Administração..defesa..educação.e.saúde.públicas.e.seguridade.social..R..1.000.</th><th scope=col>Valor.adicionado.bruto.total..a.preços.correntes..R..1.000.</th><th scope=col>Impostos..líquidos.de.subsídios..sobre.produtos..a.preços.correntes..R..1.000.</th><th scope=col>PIB</th><th scope=col>Populacao</th><th scope=col>PIB_Percapita</th><th scope=col>Atividade.com.maior.valor.adicionado.bruto</th><th scope=col>Atividade.com.segundo.maior.valor.adicionado.bruto</th><th scope=col>Atividade.com.terceiro.maior.valor.adicionado.bruto</th></tr></thead>\n",
       "<tbody>\n",
       "\t<tr><td>2010                                                                </td><td>11                                                                  </td><td>Rondônia                                                            </td><td>1100015                                                             </td><td>Alta Floresta D'Oeste                                               </td><td>                                                                    </td><td>1102                                                                </td><td>Leste Rondoniense                                                   </td><td>11006                                                               </td><td>Cacoal                                                              </td><td>⋯                                                                   </td><td> 62.496                                                             </td><td> 93.245                                                             </td><td> 241.120                                                            </td><td> 20.957                                                             </td><td>262.077                                                             </td><td> 24.422                                                             </td><td> 10.731,18                                                          </td><td>Administração, defesa, educação e saúde públicas e seguridade social</td><td>Pecuária, inclusive apoio à pecuária                                </td><td>Demais serviços                                                     </td></tr>\n",
       "\t<tr><td>2010                                                                </td><td>11                                                                  </td><td>Rondônia                                                            </td><td>1100023                                                             </td><td>Ariquemes                                                           </td><td>                                                                    </td><td>1102                                                                </td><td>Leste Rondoniense                                                   </td><td>11003                                                               </td><td>Ariquemes                                                           </td><td>⋯                                                                   </td><td> 494.946                                                            </td><td> 343.868                                                            </td><td> 1.199.664                                                          </td><td> 165.030                                                            </td><td>     NA                                                             </td><td> 90.354                                                             </td><td> 15.103,86                                                          </td><td>Administração, defesa, educação e saúde públicas e seguridade social</td><td>Demais serviços                                                     </td><td>Comércio e reparação de veículos automotores e motocicletas         </td></tr>\n",
       "\t<tr><td>2010                                                                </td><td>11                                                                  </td><td>Rondônia                                                            </td><td>1100031                                                             </td><td>Cabixi                                                              </td><td>                                                                    </td><td>1102                                                                </td><td>Leste Rondoniense                                                   </td><td>11008                                                               </td><td>Colorado do Oeste                                                   </td><td>⋯                                                                   </td><td> 12.677                                                             </td><td> 25.170                                                             </td><td> 65.401                                                             </td><td> 4.210                                                              </td><td> 69.611                                                             </td><td> 6.309                                                              </td><td> 11.033,62                                                          </td><td>Administração, defesa, educação e saúde públicas e seguridade social</td><td>Pecuária, inclusive apoio à pecuária                                </td><td>Demais serviços                                                     </td></tr>\n",
       "\t<tr><td>2010                                                                </td><td>11                                                                  </td><td>Rondônia                                                            </td><td>1100049                                                             </td><td>Cacoal                                                              </td><td>                                                                    </td><td>1102                                                                </td><td>Leste Rondoniense                                                   </td><td>11006                                                               </td><td>Cacoal                                                              </td><td>⋯                                                                   </td><td> 465.447                                                            </td><td> 298.454                                                            </td><td> 1.041.212                                                          </td><td> 145.282                                                            </td><td>     NA                                                             </td><td> 78.601                                                             </td><td> 15.095,15                                                          </td><td>Administração, defesa, educação e saúde públicas e seguridade social</td><td>Demais serviços                                                     </td><td>Comércio e reparação de veículos automotores e motocicletas         </td></tr>\n",
       "\t<tr><td>2010                                                                </td><td>11                                                                  </td><td>Rondônia                                                            </td><td>1100056                                                             </td><td>Cerejeiras                                                          </td><td>                                                                    </td><td>1102                                                                </td><td>Leste Rondoniense                                                   </td><td>11008                                                               </td><td>Colorado do Oeste                                                   </td><td>⋯                                                                   </td><td> 80.725                                                             </td><td> 63.018                                                             </td><td> 192.454                                                            </td><td> 29.567                                                             </td><td>222.021                                                             </td><td> 17.030                                                             </td><td> 13.037,06                                                          </td><td>Administração, defesa, educação e saúde públicas e seguridade social</td><td>Demais serviços                                                     </td><td>Comércio e reparação de veículos automotores e motocicletas         </td></tr>\n",
       "\t<tr><td>2010                                                                </td><td>11                                                                  </td><td>Rondônia                                                            </td><td>1100064                                                             </td><td>Colorado do Oeste                                                   </td><td>                                                                    </td><td>1102                                                                </td><td>Leste Rondoniense                                                   </td><td>11008                                                               </td><td>Colorado do Oeste                                                   </td><td>⋯                                                                   </td><td> 54.678                                                             </td><td> 67.462                                                             </td><td> 176.264                                                            </td><td> 16.829                                                             </td><td>193.093                                                             </td><td> 18.602                                                             </td><td> 10.380,21                                                          </td><td>Administração, defesa, educação e saúde públicas e seguridade social</td><td>Demais serviços                                                     </td><td>Pecuária, inclusive apoio à pecuária                                </td></tr>\n",
       "</tbody>\n",
       "</table>\n"
      ],
      "text/latex": [
       "\\begin{tabular}{r|llllllllllllllllllllll}\n",
       " Ano & COD\\_UF & UF & COD\\_IBGE & Nome.do.Município & Região.Metropolitana & Código.da.Mesorregião & Nome.da.Mesorregião & Código.da.Microrregião & Nome.da.Microrregião & ⋯ & Valor.adicionado.bruto.dos.Serviços..a.preços.correntes...exclusive.Administração..defesa..educação.e.saúde.públicas.e.seguridade.social..R..1.000. & Valor.adicionado.bruto.da.Administração..defesa..educação.e.saúde.públicas.e.seguridade.social..R..1.000. & Valor.adicionado.bruto.total..a.preços.correntes..R..1.000. & Impostos..líquidos.de.subsídios..sobre.produtos..a.preços.correntes..R..1.000. & PIB & Populacao & PIB\\_Percapita & Atividade.com.maior.valor.adicionado.bruto & Atividade.com.segundo.maior.valor.adicionado.bruto & Atividade.com.terceiro.maior.valor.adicionado.bruto\\\\\n",
       "\\hline\n",
       "\t 2010                                                                 & 11                                                                   & Rondônia                                                             & 1100015                                                              & Alta Floresta D'Oeste                                                &                                                                      & 1102                                                                 & Leste Rondoniense                                                    & 11006                                                                & Cacoal                                                               & ⋯                                                                    &  62.496                                                              &  93.245                                                              &  241.120                                                             &  20.957                                                              & 262.077                                                              &  24.422                                                              &  10.731,18                                                           & Administração, defesa, educação e saúde públicas e seguridade social & Pecuária, inclusive apoio à pecuária                                 & Demais serviços                                                     \\\\\n",
       "\t 2010                                                                 & 11                                                                   & Rondônia                                                             & 1100023                                                              & Ariquemes                                                            &                                                                      & 1102                                                                 & Leste Rondoniense                                                    & 11003                                                                & Ariquemes                                                            & ⋯                                                                    &  494.946                                                             &  343.868                                                             &  1.199.664                                                           &  165.030                                                             &      NA                                                              &  90.354                                                              &  15.103,86                                                           & Administração, defesa, educação e saúde públicas e seguridade social & Demais serviços                                                      & Comércio e reparação de veículos automotores e motocicletas         \\\\\n",
       "\t 2010                                                                 & 11                                                                   & Rondônia                                                             & 1100031                                                              & Cabixi                                                               &                                                                      & 1102                                                                 & Leste Rondoniense                                                    & 11008                                                                & Colorado do Oeste                                                    & ⋯                                                                    &  12.677                                                              &  25.170                                                              &  65.401                                                              &  4.210                                                               &  69.611                                                              &  6.309                                                               &  11.033,62                                                           & Administração, defesa, educação e saúde públicas e seguridade social & Pecuária, inclusive apoio à pecuária                                 & Demais serviços                                                     \\\\\n",
       "\t 2010                                                                 & 11                                                                   & Rondônia                                                             & 1100049                                                              & Cacoal                                                               &                                                                      & 1102                                                                 & Leste Rondoniense                                                    & 11006                                                                & Cacoal                                                               & ⋯                                                                    &  465.447                                                             &  298.454                                                             &  1.041.212                                                           &  145.282                                                             &      NA                                                              &  78.601                                                              &  15.095,15                                                           & Administração, defesa, educação e saúde públicas e seguridade social & Demais serviços                                                      & Comércio e reparação de veículos automotores e motocicletas         \\\\\n",
       "\t 2010                                                                 & 11                                                                   & Rondônia                                                             & 1100056                                                              & Cerejeiras                                                           &                                                                      & 1102                                                                 & Leste Rondoniense                                                    & 11008                                                                & Colorado do Oeste                                                    & ⋯                                                                    &  80.725                                                              &  63.018                                                              &  192.454                                                             &  29.567                                                              & 222.021                                                              &  17.030                                                              &  13.037,06                                                           & Administração, defesa, educação e saúde públicas e seguridade social & Demais serviços                                                      & Comércio e reparação de veículos automotores e motocicletas         \\\\\n",
       "\t 2010                                                                 & 11                                                                   & Rondônia                                                             & 1100064                                                              & Colorado do Oeste                                                    &                                                                      & 1102                                                                 & Leste Rondoniense                                                    & 11008                                                                & Colorado do Oeste                                                    & ⋯                                                                    &  54.678                                                              &  67.462                                                              &  176.264                                                             &  16.829                                                              & 193.093                                                              &  18.602                                                              &  10.380,21                                                           & Administração, defesa, educação e saúde públicas e seguridade social & Demais serviços                                                      & Pecuária, inclusive apoio à pecuária                                \\\\\n",
       "\\end{tabular}\n"
      ],
      "text/markdown": [
       "\n",
       "Ano | COD_UF | UF | COD_IBGE | Nome.do.Município | Região.Metropolitana | Código.da.Mesorregião | Nome.da.Mesorregião | Código.da.Microrregião | Nome.da.Microrregião | ⋯ | Valor.adicionado.bruto.dos.Serviços..a.preços.correntes...exclusive.Administração..defesa..educação.e.saúde.públicas.e.seguridade.social..R..1.000. | Valor.adicionado.bruto.da.Administração..defesa..educação.e.saúde.públicas.e.seguridade.social..R..1.000. | Valor.adicionado.bruto.total..a.preços.correntes..R..1.000. | Impostos..líquidos.de.subsídios..sobre.produtos..a.preços.correntes..R..1.000. | PIB | Populacao | PIB_Percapita | Atividade.com.maior.valor.adicionado.bruto | Atividade.com.segundo.maior.valor.adicionado.bruto | Atividade.com.terceiro.maior.valor.adicionado.bruto | \n",
       "|---|---|---|---|---|---|\n",
       "| 2010                                                                 | 11                                                                   | Rondônia                                                             | 1100015                                                              | Alta Floresta D'Oeste                                                |                                                                      | 1102                                                                 | Leste Rondoniense                                                    | 11006                                                                | Cacoal                                                               | ⋯                                                                    |  62.496                                                              |  93.245                                                              |  241.120                                                             |  20.957                                                              | 262.077                                                              |  24.422                                                              |  10.731,18                                                           | Administração, defesa, educação e saúde públicas e seguridade social | Pecuária, inclusive apoio à pecuária                                 | Demais serviços                                                      | \n",
       "| 2010                                                                 | 11                                                                   | Rondônia                                                             | 1100023                                                              | Ariquemes                                                            |                                                                      | 1102                                                                 | Leste Rondoniense                                                    | 11003                                                                | Ariquemes                                                            | ⋯                                                                    |  494.946                                                             |  343.868                                                             |  1.199.664                                                           |  165.030                                                             |      NA                                                              |  90.354                                                              |  15.103,86                                                           | Administração, defesa, educação e saúde públicas e seguridade social | Demais serviços                                                      | Comércio e reparação de veículos automotores e motocicletas          | \n",
       "| 2010                                                                 | 11                                                                   | Rondônia                                                             | 1100031                                                              | Cabixi                                                               |                                                                      | 1102                                                                 | Leste Rondoniense                                                    | 11008                                                                | Colorado do Oeste                                                    | ⋯                                                                    |  12.677                                                              |  25.170                                                              |  65.401                                                              |  4.210                                                               |  69.611                                                              |  6.309                                                               |  11.033,62                                                           | Administração, defesa, educação e saúde públicas e seguridade social | Pecuária, inclusive apoio à pecuária                                 | Demais serviços                                                      | \n",
       "| 2010                                                                 | 11                                                                   | Rondônia                                                             | 1100049                                                              | Cacoal                                                               |                                                                      | 1102                                                                 | Leste Rondoniense                                                    | 11006                                                                | Cacoal                                                               | ⋯                                                                    |  465.447                                                             |  298.454                                                             |  1.041.212                                                           |  145.282                                                             |      NA                                                              |  78.601                                                              |  15.095,15                                                           | Administração, defesa, educação e saúde públicas e seguridade social | Demais serviços                                                      | Comércio e reparação de veículos automotores e motocicletas          | \n",
       "| 2010                                                                 | 11                                                                   | Rondônia                                                             | 1100056                                                              | Cerejeiras                                                           |                                                                      | 1102                                                                 | Leste Rondoniense                                                    | 11008                                                                | Colorado do Oeste                                                    | ⋯                                                                    |  80.725                                                              |  63.018                                                              |  192.454                                                             |  29.567                                                              | 222.021                                                              |  17.030                                                              |  13.037,06                                                           | Administração, defesa, educação e saúde públicas e seguridade social | Demais serviços                                                      | Comércio e reparação de veículos automotores e motocicletas          | \n",
       "| 2010                                                                 | 11                                                                   | Rondônia                                                             | 1100064                                                              | Colorado do Oeste                                                    |                                                                      | 1102                                                                 | Leste Rondoniense                                                    | 11008                                                                | Colorado do Oeste                                                    | ⋯                                                                    |  54.678                                                              |  67.462                                                              |  176.264                                                             |  16.829                                                              | 193.093                                                              |  18.602                                                              |  10.380,21                                                           | Administração, defesa, educação e saúde públicas e seguridade social | Demais serviços                                                      | Pecuária, inclusive apoio à pecuária                                 | \n",
       "\n",
       "\n"
      ],
      "text/plain": [
       "  Ano  COD_UF UF       COD_IBGE Nome.do.Município     Região.Metropolitana\n",
       "1 2010 11     Rondônia 1100015  Alta Floresta D'Oeste                     \n",
       "2 2010 11     Rondônia 1100023  Ariquemes                                 \n",
       "3 2010 11     Rondônia 1100031  Cabixi                                    \n",
       "4 2010 11     Rondônia 1100049  Cacoal                                    \n",
       "5 2010 11     Rondônia 1100056  Cerejeiras                                \n",
       "6 2010 11     Rondônia 1100064  Colorado do Oeste                         \n",
       "  Código.da.Mesorregião Nome.da.Mesorregião Código.da.Microrregião\n",
       "1 1102                  Leste Rondoniense   11006                 \n",
       "2 1102                  Leste Rondoniense   11003                 \n",
       "3 1102                  Leste Rondoniense   11008                 \n",
       "4 1102                  Leste Rondoniense   11006                 \n",
       "5 1102                  Leste Rondoniense   11008                 \n",
       "6 1102                  Leste Rondoniense   11008                 \n",
       "  Nome.da.Microrregião ⋯\n",
       "1 Cacoal               ⋯\n",
       "2 Ariquemes            ⋯\n",
       "3 Colorado do Oeste    ⋯\n",
       "4 Cacoal               ⋯\n",
       "5 Colorado do Oeste    ⋯\n",
       "6 Colorado do Oeste    ⋯\n",
       "  Valor.adicionado.bruto.dos.Serviços..a.preços.correntes...exclusive.Administração..defesa..educação.e.saúde.públicas.e.seguridade.social..R..1.000.\n",
       "1  62.496                                                                                                                                            \n",
       "2  494.946                                                                                                                                           \n",
       "3  12.677                                                                                                                                            \n",
       "4  465.447                                                                                                                                           \n",
       "5  80.725                                                                                                                                            \n",
       "6  54.678                                                                                                                                            \n",
       "  Valor.adicionado.bruto.da.Administração..defesa..educação.e.saúde.públicas.e.seguridade.social..R..1.000.\n",
       "1  93.245                                                                                                  \n",
       "2  343.868                                                                                                 \n",
       "3  25.170                                                                                                  \n",
       "4  298.454                                                                                                 \n",
       "5  63.018                                                                                                  \n",
       "6  67.462                                                                                                  \n",
       "  Valor.adicionado.bruto.total..a.preços.correntes..R..1.000.\n",
       "1  241.120                                                   \n",
       "2  1.199.664                                                 \n",
       "3  65.401                                                    \n",
       "4  1.041.212                                                 \n",
       "5  192.454                                                   \n",
       "6  176.264                                                   \n",
       "  Impostos..líquidos.de.subsídios..sobre.produtos..a.preços.correntes..R..1.000.\n",
       "1  20.957                                                                       \n",
       "2  165.030                                                                      \n",
       "3  4.210                                                                        \n",
       "4  145.282                                                                      \n",
       "5  29.567                                                                       \n",
       "6  16.829                                                                       \n",
       "  PIB     Populacao PIB_Percapita\n",
       "1 262.077  24.422    10.731,18   \n",
       "2      NA  90.354    15.103,86   \n",
       "3  69.611  6.309     11.033,62   \n",
       "4      NA  78.601    15.095,15   \n",
       "5 222.021  17.030    13.037,06   \n",
       "6 193.093  18.602    10.380,21   \n",
       "  Atividade.com.maior.valor.adicionado.bruto                          \n",
       "1 Administração, defesa, educação e saúde públicas e seguridade social\n",
       "2 Administração, defesa, educação e saúde públicas e seguridade social\n",
       "3 Administração, defesa, educação e saúde públicas e seguridade social\n",
       "4 Administração, defesa, educação e saúde públicas e seguridade social\n",
       "5 Administração, defesa, educação e saúde públicas e seguridade social\n",
       "6 Administração, defesa, educação e saúde públicas e seguridade social\n",
       "  Atividade.com.segundo.maior.valor.adicionado.bruto\n",
       "1 Pecuária, inclusive apoio à pecuária              \n",
       "2 Demais serviços                                   \n",
       "3 Pecuária, inclusive apoio à pecuária              \n",
       "4 Demais serviços                                   \n",
       "5 Demais serviços                                   \n",
       "6 Demais serviços                                   \n",
       "  Atividade.com.terceiro.maior.valor.adicionado.bruto        \n",
       "1 Demais serviços                                            \n",
       "2 Comércio e reparação de veículos automotores e motocicletas\n",
       "3 Demais serviços                                            \n",
       "4 Comércio e reparação de veículos automotores e motocicletas\n",
       "5 Comércio e reparação de veículos automotores e motocicletas\n",
       "6 Pecuária, inclusive apoio à pecuária                       "
      ]
     },
     "metadata": {},
     "output_type": "display_data"
    }
   ],
   "source": [
    "#51\n",
    "# Filtra (retorna) somente as linhas\n",
    "pib2010 <- filter(pib, Ano == 2010)\n",
    "head(pib2010)\n"
   ]
  },
  {
   "cell_type": "code",
   "execution_count": 18,
   "metadata": {},
   "outputs": [
    {
     "data": {
      "text/html": [
       "'numeric'"
      ],
      "text/latex": [
       "'numeric'"
      ],
      "text/markdown": [
       "'numeric'"
      ],
      "text/plain": [
       "[1] \"numeric\""
      ]
     },
     "metadata": {},
     "output_type": "display_data"
    }
   ],
   "source": [
    "#51.1\n",
    "class(pib$PIB)"
   ]
  },
  {
   "cell_type": "code",
   "execution_count": 19,
   "metadata": {},
   "outputs": [
    {
     "data": {
      "text/html": [
       "'numeric'"
      ],
      "text/latex": [
       "'numeric'"
      ],
      "text/markdown": [
       "'numeric'"
      ],
      "text/plain": [
       "[1] \"numeric\""
      ]
     },
     "metadata": {},
     "output_type": "display_data"
    }
   ],
   "source": [
    "#51.2\n",
    "#converter a coluna PIB para numeric\n",
    "pib2010$PIB <- as.numeric(pib2010$PIB)\n",
    "class(pib2010$PIB) #perceba que o PIB agora é do tipo numeric"
   ]
  },
  {
   "cell_type": "code",
   "execution_count": 20,
   "metadata": {},
   "outputs": [],
   "source": [
    "#52\n",
    "# Usar o operador de redirecionamento %>% para repetir o mesmo resultado da operação do item 51 \n",
    "# Ou seja, filtrar as linhas e retornar somente linhas do ano de 2010\n",
    "\n"
   ]
  }
 ],
 "metadata": {
  "kernelspec": {
   "display_name": "R",
   "language": "R",
   "name": "ir"
  },
  "language_info": {
   "codemirror_mode": "r",
   "file_extension": ".r",
   "mimetype": "text/x-r-source",
   "name": "R",
   "pygments_lexer": "r",
   "version": "3.5.1"
  }
 },
 "nbformat": 4,
 "nbformat_minor": 2
}
