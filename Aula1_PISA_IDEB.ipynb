{
 "cells": [
  {
   "cell_type": "markdown",
   "metadata": {},
   "source": [
    "# Exercício de Avaliação (Prazo de entrega: até 12h30)"
   ]
  },
  {
   "cell_type": "markdown",
   "metadata": {},
   "source": [
    "## Objetivo: Comparar PISA e IDEB por meio da subtração da ordem (ranking) dos Estados brasileiro "
   ]
  },
  {
   "cell_type": "code",
   "execution_count": 1,
   "metadata": {
    "scrolled": false
   },
   "outputs": [
    {
     "name": "stderr",
     "output_type": "stream",
     "text": [
      "\n",
      "Attaching package: ‘dplyr’\n",
      "\n",
      "The following objects are masked from ‘package:stats’:\n",
      "\n",
      "    filter, lag\n",
      "\n",
      "The following objects are masked from ‘package:base’:\n",
      "\n",
      "    intersect, setdiff, setequal, union\n",
      "\n"
     ]
    }
   ],
   "source": [
    "setwd(\"~/curso/\") ## ajuste o diretorio de trabalho para o seu computador\n"
   ]
  },
  {
   "cell_type": "code",
   "execution_count": null,
   "metadata": {},
   "outputs": [],
   "source": []
  },
  {
   "cell_type": "code",
   "execution_count": 2,
   "metadata": {},
   "outputs": [],
   "source": [
    "### Ler os dados do IDEB  -  #25\n",
    "ideb_9Ano_2009 <- \n",
    "ideb_9Ano_2011 <-\n",
    "ideb_9Ano_2015 <-\n",
    "\n",
    "### Ler os dados do PISA 2009 e 2012     -   #25\n",
    "pisa2009 <- read.csv(file=\"./dados/PISA/PISA2009.csv\")\n",
    "pisa2012 <- \n",
    "pisa2015 <- \n",
    "head(pisa2009)\n",
    "head(pisa2012)\n",
    "head(pisa2015)"
   ]
  },
  {
   "cell_type": "code",
   "execution_count": null,
   "metadata": {},
   "outputs": [],
   "source": [
    "### Calcular a diferença da ordenação entre o PISA e o IDEB em 2009   \n",
    "dif_ordem2009 <- abs(ideb_9Ano_2009$Posicao - pisa2009$Posicao)\n",
    "dif_ordem2009\n",
    "### Calcular a média e o desvio padrão da diferença de 2009\n",
    "mean(dif_ordem2009)\n",
    "sd(dif_ordem2009)"
   ]
  },
  {
   "cell_type": "code",
   "execution_count": null,
   "metadata": {},
   "outputs": [],
   "source": [
    "### Calcular a diferença da ordenação entre o PISA e o IDEB em 2011   \n",
    "dif_ordem2011 <- \n",
    "dif_ordem2011\n",
    "### Calcular a média e o desvio padrão da diferença de 2011\n",
    "mean(dif_ordem2011)\n",
    "sd(dif_ordem2011)"
   ]
  },
  {
   "cell_type": "code",
   "execution_count": null,
   "metadata": {},
   "outputs": [],
   "source": [
    "### Calcular a diferença da ordenação entre o PISA e o IDEB em 2015   \n",
    "dif_ordem2015 <- \n",
    "dif_ordem2015\n",
    "### Calcular a média e o desvio padrão da diferença de 2015\n",
    "mean(dif_ordem2015)\n",
    "sd(dif_ordem2015)"
   ]
  },
  {
   "cell_type": "code",
   "execution_count": null,
   "metadata": {},
   "outputs": [],
   "source": [
    "# Reflita e analise estes procedimentos a luz dos conceitos apresentados em sala.\n",
    "# Liste as possíveis causas que podem ter feito a ordem do IDEB divergir da ordem do PISA\n",
    "# Faça qualquer outro comentário que julgar relevante.\n",
    "\n"
   ]
  }
 ],
 "metadata": {
  "kernelspec": {
   "display_name": "R",
   "language": "R",
   "name": "ir"
  },
  "language_info": {
   "codemirror_mode": "r",
   "file_extension": ".r",
   "mimetype": "text/x-r-source",
   "name": "R",
   "pygments_lexer": "r",
   "version": "3.4.4"
  }
 },
 "nbformat": 4,
 "nbformat_minor": 2
}
